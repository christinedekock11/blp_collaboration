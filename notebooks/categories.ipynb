{
 "cells": [
  {
   "cell_type": "code",
   "execution_count": 9,
   "metadata": {},
   "outputs": [],
   "source": [
    "import os\n",
    "import pymysql\n",
    "\n",
    "import mwapi\n",
    "import pandas as pd"
   ]
  },
  {
   "cell_type": "code",
   "execution_count": 12,
   "metadata": {},
   "outputs": [],
   "source": [
    "cats = pd.read_csv('data/categories.csv')"
   ]
  },
  {
   "cell_type": "code",
   "execution_count": 22,
   "metadata": {},
   "outputs": [],
   "source": [
    "maintenance_cats = ['Autobiographical_articles','Articles_with_weasel_words',\n",
    "                    'All_articles_with_peacock_terms','Articles_with_a_promotional_tone',\n",
    "                    'Wikipedia_articles_needing_factual_verification',\n",
    "                   'Wikipedia_articles_in_need_of_updating','NPOV_disputes','Accuracy_disputes',\n",
    "                   'Articles_that_may_contain_original_research','Articles_lacking_reliable_references',\n",
    "                   'Articles_needing_additional_references']"
   ]
  },
  {
   "cell_type": "code",
   "execution_count": 28,
   "metadata": {},
   "outputs": [
    {
     "data": {
      "text/plain": [
       "'Autobiographical_articles,Articles_with_weasel_words,All_articles_with_peacock_terms,Articles_with_a_promotional_tone,Wikipedia_articles_needing_factual_verification,Wikipedia_articles_in_need_of_updating,NPOV_disputes,Accuracy_disputes,Articles_that_may_contain_original_research,Articles_lacking_reliable_references,Articles_needing_additional_references'"
      ]
     },
     "execution_count": 28,
     "metadata": {},
     "output_type": "execute_result"
    }
   ],
   "source": [
    "','.join(maintenance_cats)"
   ]
  },
  {
   "cell_type": "code",
   "execution_count": 26,
   "metadata": {},
   "outputs": [
    {
     "data": {
      "text/html": [
       "<div>\n",
       "<style scoped>\n",
       "    .dataframe tbody tr th:only-of-type {\n",
       "        vertical-align: middle;\n",
       "    }\n",
       "\n",
       "    .dataframe tbody tr th {\n",
       "        vertical-align: top;\n",
       "    }\n",
       "\n",
       "    .dataframe thead th {\n",
       "        text-align: right;\n",
       "    }\n",
       "</style>\n",
       "<table border=\"1\" class=\"dataframe\">\n",
       "  <thead>\n",
       "    <tr style=\"text-align: right;\">\n",
       "      <th></th>\n",
       "      <th>cl_from</th>\n",
       "      <th>cl_to</th>\n",
       "    </tr>\n",
       "  </thead>\n",
       "  <tbody>\n",
       "    <tr>\n",
       "      <th>0</th>\n",
       "      <td>6368510</td>\n",
       "      <td>Biography_articles_of_living_people</td>\n",
       "    </tr>\n",
       "    <tr>\n",
       "      <th>1</th>\n",
       "      <td>6368510</td>\n",
       "      <td>C-Class_Elections_and_Referendums_articles</td>\n",
       "    </tr>\n",
       "    <tr>\n",
       "      <th>2</th>\n",
       "      <td>6368510</td>\n",
       "      <td>C-Class_Venezuela_articles</td>\n",
       "    </tr>\n",
       "    <tr>\n",
       "      <th>3</th>\n",
       "      <td>6368510</td>\n",
       "      <td>Mid-importance_Venezuela_articles</td>\n",
       "    </tr>\n",
       "    <tr>\n",
       "      <th>4</th>\n",
       "      <td>6368510</td>\n",
       "      <td>Noindexed_pages</td>\n",
       "    </tr>\n",
       "    <tr>\n",
       "      <th>...</th>\n",
       "      <td>...</td>\n",
       "      <td>...</td>\n",
       "    </tr>\n",
       "    <tr>\n",
       "      <th>999995</th>\n",
       "      <td>18790113</td>\n",
       "      <td>Low-importance_London-related_articles</td>\n",
       "    </tr>\n",
       "    <tr>\n",
       "      <th>999996</th>\n",
       "      <td>18790113</td>\n",
       "      <td>Low-importance_biography_(sports_and_games)_ar...</td>\n",
       "    </tr>\n",
       "    <tr>\n",
       "      <th>999997</th>\n",
       "      <td>18790113</td>\n",
       "      <td>Mid-importance_football_articles</td>\n",
       "    </tr>\n",
       "    <tr>\n",
       "      <th>999998</th>\n",
       "      <td>18790113</td>\n",
       "      <td>Mid-importance_football_in_England_articles</td>\n",
       "    </tr>\n",
       "    <tr>\n",
       "      <th>999999</th>\n",
       "      <td>18790113</td>\n",
       "      <td>Noindexed_pages</td>\n",
       "    </tr>\n",
       "  </tbody>\n",
       "</table>\n",
       "<p>1000000 rows × 2 columns</p>\n",
       "</div>"
      ],
      "text/plain": [
       "         cl_from                                              cl_to\n",
       "0        6368510                Biography_articles_of_living_people\n",
       "1        6368510         C-Class_Elections_and_Referendums_articles\n",
       "2        6368510                         C-Class_Venezuela_articles\n",
       "3        6368510                  Mid-importance_Venezuela_articles\n",
       "4        6368510                                    Noindexed_pages\n",
       "...          ...                                                ...\n",
       "999995  18790113             Low-importance_London-related_articles\n",
       "999996  18790113  Low-importance_biography_(sports_and_games)_ar...\n",
       "999997  18790113                   Mid-importance_football_articles\n",
       "999998  18790113        Mid-importance_football_in_England_articles\n",
       "999999  18790113                                    Noindexed_pages\n",
       "\n",
       "[1000000 rows x 2 columns]"
      ]
     },
     "execution_count": 26,
     "metadata": {},
     "output_type": "execute_result"
    }
   ],
   "source": [
    "cats"
   ]
  }
 ],
 "metadata": {
  "kernelspec": {
   "display_name": "Python 3",
   "language": "python",
   "name": "python3"
  },
  "language_info": {
   "codemirror_mode": {
    "name": "ipython",
    "version": 3
   },
   "file_extension": ".py",
   "mimetype": "text/x-python",
   "name": "python",
   "nbconvert_exporter": "python",
   "pygments_lexer": "ipython3",
   "version": "3.7.5"
  }
 },
 "nbformat": 4,
 "nbformat_minor": 2
}
