{
 "cells": [
  {
   "cell_type": "code",
   "execution_count": 7,
   "metadata": {},
   "outputs": [
    {
     "name": "stdout",
     "output_type": "stream",
     "text": [
      "The autoreload extension is already loaded. To reload it, use:\n",
      "  %reload_ext autoreload\n"
     ]
    }
   ],
   "source": [
    "%load_ext autoreload\n",
    "%autoreload 2"
   ]
  },
  {
   "cell_type": "code",
   "execution_count": 8,
   "metadata": {},
   "outputs": [],
   "source": [
    "HOME = '/srv/home/christinedk/wp_internship/'\n",
    "DATA_DIR = HOME + 'data/'"
   ]
  },
  {
   "cell_type": "code",
   "execution_count": 9,
   "metadata": {
    "scrolled": true
   },
   "outputs": [],
   "source": [
    "import pandas as pd\n",
    "from dateutil import parser\n",
    "import datetime\n",
    "import numpy as np\n",
    "import json\n",
    "import matplotlib.pylab as plt\n",
    "from tqdm import tqdm\n",
    "\n",
    "import sys\n",
    "sys.path.append('/srv/home/christinedk/wp_internship/collaboration/')\n",
    "from features.article_history import *\n",
    "from features.talk_history import *\n",
    "from utils import read_revisions, np_encoder"
   ]
  },
  {
   "cell_type": "code",
   "execution_count": 6,
   "metadata": {
    "scrolled": true
   },
   "outputs": [
    {
     "name": "stdout",
     "output_type": "stream",
     "text": [
      "page_history-advert-meta-info.json         page_history-peacock-meta-info.json\r\n",
      "page_history-autobiography-meta-info.json  page_history-weasel-meta-info.json\r\n",
      "page_history-fanpov-meta-info.json\r\n"
     ]
    }
   ],
   "source": [
    "ls /srv/home/christinedk/wp_internship/data/page_history/"
   ]
  },
  {
   "cell_type": "markdown",
   "metadata": {},
   "source": [
    "# Get subset from Talk"
   ]
  },
  {
   "cell_type": "code",
   "execution_count": 6,
   "metadata": {},
   "outputs": [
    {
     "name": "stdout",
     "output_type": "stream",
     "text": [
      "autobiography\n",
      "number of labels:  4224\n",
      "2993\n",
      "weasel\n",
      "number of labels:  1322\n",
      "1040\n",
      "advert\n",
      "number of labels:  7570\n",
      "5315\n",
      "fanpov\n",
      "number of labels:  721\n",
      "483\n",
      "peacock\n",
      "number of labels:  5174\n",
      "3842\n"
     ]
    }
   ],
   "source": [
    "for template in ['autobiography','weasel','advert','fanpov','peacock']:\n",
    "    print(template)\n",
    "\n",
    "    article_talk_mappings = pd.read_csv(DATA_DIR+'article_talk_mappings/{}.csv'.format(template),\n",
    "                                       usecols=['talk_page_id','article_page_id'])\n",
    "    labels = pd.read_csv(DATA_DIR+'labels/{}.csv'.format(template),parse_dates=['event_timestamp'])\n",
    "    labels = labels.join(article_talk_mappings.set_index('article_page_id')[['talk_page_id']],on='page_id').dropna()\n",
    "    print('number of labels: ',len(labels))\n",
    "    \n",
    "    page_labels = labels.groupby('talk_page_id')\n",
    "    pages = labels.talk_page_id.unique()\n",
    "    \n",
    "    talk = {}\n",
    "    with open(DATA_DIR + 'talk_history/talk-text-{}-meta-info.json'.format(template),'rb') as f:\n",
    "        for line in f:\n",
    "            snapshot=json.loads(line)\n",
    "            page_id = snapshot['page_id']\n",
    "            if page_id not in pages:\n",
    "                continue\n",
    "\n",
    "            snapshot_date = parser.parse(snapshot['revision_timestamp']).replace(tzinfo=None)\n",
    "            page_lable_dates = page_labels.get_group(snapshot['page_id'])['event_timestamp']\n",
    "            date_diffs = (snapshot_date - page_lable_dates).dt.days\n",
    "            min_ind = date_diffs.idxmin()\n",
    "            min_diff = date_diffs[min_ind]\n",
    "            if 0 <= min_diff < talk.get((page_id,page_lable_dates[min_ind])[0],np.inf):\n",
    "                talk[page_id,page_lable_dates[min_ind]]=(min_diff,snapshot)\n",
    "\n",
    "    print(len(talk))\n",
    "    talk_dump = [{'talk_page_id':key[0],'event_timestamp':str(key[1]),**value[1]} for key, value in talk.items()]\n",
    "    with open(DATA_DIR+'talk_history/talk-subset-{}.json'.format(template),'w') as f:\n",
    "        json.dump(talk_dump, f, default=np_encoder)"
   ]
  },
  {
   "cell_type": "code",
   "execution_count": null,
   "metadata": {},
   "outputs": [],
   "source": []
  },
  {
   "cell_type": "markdown",
   "metadata": {},
   "source": [
    "# Extract Talk features"
   ]
  },
  {
   "cell_type": "code",
   "execution_count": 28,
   "metadata": {
    "scrolled": true
   },
   "outputs": [
    {
     "name": "stdout",
     "output_type": "stream",
     "text": [
      "advert\n",
      "reading data\n"
     ]
    },
    {
     "name": "stderr",
     "output_type": "stream",
     "text": [
      "100%|██████████| 7570/7570 [09:36<00:00, 13.13it/s]  \n"
     ]
    },
    {
     "name": "stdout",
     "output_type": "stream",
     "text": [
      "autobiography\n",
      "reading data\n"
     ]
    },
    {
     "name": "stderr",
     "output_type": "stream",
     "text": [
      "100%|██████████| 4224/4224 [04:07<00:00, 17.04it/s]\n"
     ]
    },
    {
     "name": "stdout",
     "output_type": "stream",
     "text": [
      "fanpov\n",
      "reading data\n"
     ]
    },
    {
     "name": "stderr",
     "output_type": "stream",
     "text": [
      "100%|██████████| 721/721 [01:01<00:00, 11.73it/s]\n"
     ]
    },
    {
     "name": "stdout",
     "output_type": "stream",
     "text": [
      "weasel\n",
      "reading data\n"
     ]
    },
    {
     "name": "stderr",
     "output_type": "stream",
     "text": [
      "100%|██████████| 1322/1322 [04:47<00:00,  4.59it/s]\n"
     ]
    },
    {
     "name": "stdout",
     "output_type": "stream",
     "text": [
      "peacock\n",
      "reading data\n"
     ]
    },
    {
     "name": "stderr",
     "output_type": "stream",
     "text": [
      "100%|██████████| 5174/5174 [05:34<00:00, 15.45it/s] \n"
     ]
    },
    {
     "name": "stdout",
     "output_type": "stream",
     "text": [
      "CPU times: user 27min 36s, sys: 49.5 s, total: 28min 26s\n",
      "Wall time: 28min 18s\n"
     ]
    }
   ],
   "source": [
    "%%time \n",
    "conv_parser = ConvParser()\n",
    "feature_extractor = FeatureExtractor()\n",
    "\n",
    "for template in ['advert','autobiography','fanpov','weasel','peacock']:\n",
    "    print(template)\n",
    "    \n",
    "    print('reading data')\n",
    "    # read and format things\n",
    "    page_revisions = read_revisions(DATA_DIR+'page_history/page_history-{}-meta-info.json'.format(template))\n",
    "    talk_revisions  = read_revisions(DATA_DIR+'talk_history/talk-activity-{}-meta-info.json'.format(template),\n",
    "                                    rename=True)\n",
    "    \n",
    "    talk_text = pd.read_json(DATA_DIR+'talk_history/talk-subset-{}.json'.format(template))\n",
    "    talk_text['event_timestamp'] = pd.to_datetime(talk_text['event_timestamp'])\n",
    "    talk_text = talk_text.set_index(['talk_page_id','event_timestamp'])[['revision_text','page_id']]\n",
    "\n",
    "    article_talk_mappings = pd.read_csv(DATA_DIR+'article_talk_mappings/{}.csv'.format(template),\n",
    "                                       usecols=['talk_page_id','article_page_id'])\n",
    "    labels = pd.read_csv(DATA_DIR+'labels/{}.csv'.format(template),parse_dates=['event_timestamp'])\n",
    "    labels = labels.join(article_talk_mappings.set_index('article_page_id')[['talk_page_id']],on='page_id').dropna()\n",
    "    \n",
    "    # prepare to extract by page\n",
    "    talk_pages = talk_revisions.groupby('page_id')\n",
    "    pages = page_revisions.groupby('page_id')\n",
    "    \n",
    "    features = []\n",
    "    for tag_date, page_id, talk_page_id in tqdm(labels.values):\n",
    "        lang_features = conv = talk_volume = {}\n",
    "        \n",
    "        tag_page_revisions = pages.get_group(page_id)\n",
    "        tag_page_revisions = tag_page_revisions[tag_page_revisions.event_timestamp.dt.date <= tag_date]\n",
    "\n",
    "        tag_talk_revisions = talk_pages.get_group(talk_page_id)\n",
    "        tag_talk_revisions = tag_talk_revisions[tag_talk_revisions.event_timestamp.dt.date <= tag_date]\n",
    "        \n",
    "        # talk page; volume\n",
    "        if len(tag_talk_revisions) > 0:\n",
    "            tag_talk_revisions = calculate_page_metrics(tag_talk_revisions)\n",
    "            talk_features = get_talk_features(tag_talk_revisions)\n",
    "            talk_features['page_talk_ratio'] = len(tag_page_revisions)/len(tag_talk_revisions)\n",
    "\n",
    "        # talk page; language\n",
    "        if (talk_page_id,tag_date) in talk_text.index:\n",
    "            talk_latest = talk_text.loc[(talk_page_id,tag_date)].values\n",
    "            conv = conv_parser.format_conv(*talk_latest)\n",
    "            lang_features = feature_extractor.get_language_features(conv)\n",
    "\n",
    "        features.append({'page':page_id,'date':str(tag_date),\n",
    "                         'conversation':list(conv),\n",
    "                        'talk_volume':talk_features,\n",
    "                        'talk_language':lang_features})\n",
    "        \n",
    "    with open(HOME +'features/talk_'+template+'.json','w') as f:\n",
    "        json.dump(features,f,default=np_encoder)\n"
   ]
  },
  {
   "cell_type": "code",
   "execution_count": 13,
   "metadata": {},
   "outputs": [],
   "source": [
    "# preceding unsigned comment\n",
    "# heading \"section\"\n",
    "# section of current conversation"
   ]
  }
 ],
 "metadata": {
  "kernelspec": {
   "display_name": "Python 3",
   "language": "python",
   "name": "python3"
  },
  "language_info": {
   "codemirror_mode": {
    "name": "ipython",
    "version": 3
   },
   "file_extension": ".py",
   "mimetype": "text/x-python",
   "name": "python",
   "nbconvert_exporter": "python",
   "pygments_lexer": "ipython3",
   "version": "3.7.3"
  }
 },
 "nbformat": 4,
 "nbformat_minor": 2
}
