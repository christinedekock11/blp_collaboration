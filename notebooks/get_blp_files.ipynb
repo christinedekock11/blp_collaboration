{
 "cells": [
  {
   "cell_type": "code",
   "execution_count": 65,
   "metadata": {},
   "outputs": [],
   "source": [
    "import pandas as pd\n",
    "import numpy as np\n",
    "from collections import Counter\n",
    "from tqdm import tqdm\n",
    "import json"
   ]
  },
  {
   "cell_type": "code",
   "execution_count": 68,
   "metadata": {},
   "outputs": [
    {
     "data": {
      "text/plain": [
       "'/Users/christinedekock/wp_internship/data/formatted_data'"
      ]
     },
     "execution_count": 68,
     "metadata": {},
     "output_type": "execute_result"
    }
   ],
   "source": [
    "pwd"
   ]
  },
  {
   "cell_type": "code",
   "execution_count": 115,
   "metadata": {},
   "outputs": [],
   "source": [
    "with open(\"/Users/christinedekock/wp_internship/data/data_export_1402/collaborationPatterns-autobiography-meta-info.csv\",'r') as my_file:\n",
    "    text = [k.split('\\t') for k in my_file.readlines()]\n",
    "    \n",
    "text = [i[:16] for i in text if len(i) >= 16]"
   ]
  },
  {
   "cell_type": "code",
   "execution_count": 116,
   "metadata": {},
   "outputs": [],
   "source": [
    "blp = pd.read_csv('/Users/christinedekock/wp_internship/data/namespaces.csv')\n",
    "blp = blp.query('page_namespace in (0,1)')"
   ]
  },
  {
   "cell_type": "code",
   "execution_count": 117,
   "metadata": {
    "scrolled": true
   },
   "outputs": [
    {
     "name": "stderr",
     "output_type": "stream",
     "text": [
      "100%|██████████| 3689444/3689444 [1:03:41<00:00, 965.51it/s]\n"
     ]
    }
   ],
   "source": [
    "text_blp = [i for i in tqdm(text[1:]) if int(i[2]) in blp.page_id.values]"
   ]
  },
  {
   "cell_type": "code",
   "execution_count": 118,
   "metadata": {},
   "outputs": [],
   "source": [
    "revisions = pd.DataFrame(text_blp, columns=text[0])\n",
    "revisions['page_namespace'] = revisions['page_namespace'].astype(int)\n",
    "revisions = revisions.query('page_namespace in (0,1)')"
   ]
  },
  {
   "cell_type": "code",
   "execution_count": 119,
   "metadata": {},
   "outputs": [],
   "source": [
    "def get_edits_pre_tag(data):\n",
    "    ix = data['has_template'].idxmax()\n",
    "\n",
    "    return data.loc[:ix]"
   ]
  },
  {
   "cell_type": "code",
   "execution_count": 120,
   "metadata": {},
   "outputs": [],
   "source": [
    "revisions = revisions.sort_values(by=['page_id','revision_id'], ascending=True)\n",
    "revisions['has_template'] = revisions['has_template'].fillna(0).astype(int)\n",
    "pre_edit = revisions.groupby('page_id').apply(get_edits_pre_tag)\n",
    "pre_edit.reset_index(drop=True, inplace=True)"
   ]
  },
  {
   "cell_type": "code",
   "execution_count": 121,
   "metadata": {},
   "outputs": [
    {
     "data": {
      "text/plain": [
       "page_namespace\n",
       "0    631111\n",
       "1      1659\n",
       "Name: page_id, dtype: int64"
      ]
     },
     "execution_count": 121,
     "metadata": {},
     "output_type": "execute_result"
    }
   ],
   "source": [
    "revisions.groupby(['page_namespace'])['page_id'].count()"
   ]
  },
  {
   "cell_type": "code",
   "execution_count": 122,
   "metadata": {},
   "outputs": [
    {
     "data": {
      "text/plain": [
       "page_namespace\n",
       "0    3643\n",
       "1      17\n",
       "Name: page_id, dtype: int64"
      ]
     },
     "execution_count": 122,
     "metadata": {},
     "output_type": "execute_result"
    }
   ],
   "source": [
    "revisions.groupby(['page_namespace'])['page_id'].nunique()"
   ]
  },
  {
   "cell_type": "code",
   "execution_count": null,
   "metadata": {},
   "outputs": [],
   "source": []
  },
  {
   "cell_type": "code",
   "execution_count": null,
   "metadata": {},
   "outputs": [],
   "source": [
    "# persist"
   ]
  },
  {
   "cell_type": "code",
   "execution_count": 123,
   "metadata": {},
   "outputs": [],
   "source": [
    "revisions.to_csv('/Users/christinedekock/wp_internship/data/formatted_data/autobiography.csv',index=False)"
   ]
  },
  {
   "cell_type": "code",
   "execution_count": 124,
   "metadata": {},
   "outputs": [],
   "source": [
    "with open('/Users/christinedekock/wp_internship/data/formatted_data/autobiography.json','w') as f:\n",
    "    json.dump(revisions.to_dict(orient='records'),f)"
   ]
  },
  {
   "cell_type": "code",
   "execution_count": null,
   "metadata": {},
   "outputs": [],
   "source": []
  }
 ],
 "metadata": {
  "kernelspec": {
   "display_name": "Python 3",
   "language": "python",
   "name": "python3"
  },
  "language_info": {
   "codemirror_mode": {
    "name": "ipython",
    "version": 3
   },
   "file_extension": ".py",
   "mimetype": "text/x-python",
   "name": "python",
   "nbconvert_exporter": "python",
   "pygments_lexer": "ipython3",
   "version": "3.7.5"
  }
 },
 "nbformat": 4,
 "nbformat_minor": 2
}
