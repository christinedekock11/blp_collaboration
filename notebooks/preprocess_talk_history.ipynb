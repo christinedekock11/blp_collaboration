{
 "cells": [
  {
   "cell_type": "code",
   "execution_count": null,
   "metadata": {},
   "outputs": [],
   "source": [
    "%load_ext autoreload\n",
    "%autoreload 2\n",
    "\n",
    "import sys\n",
    "sys.path.append('/Users/christinedekock/wp_internship/collaboration/')"
   ]
  },
  {
   "cell_type": "code",
   "execution_count": 17,
   "metadata": {},
   "outputs": [],
   "source": [
    "import pandas as pd\n",
    "import numpy as np\n",
    "from collections import Counter\n",
    "from tqdm import tqdm\n",
    "import json"
   ]
  },
  {
   "cell_type": "code",
   "execution_count": 18,
   "metadata": {},
   "outputs": [
    {
     "name": "stdout",
     "output_type": "stream",
     "text": [
      "/srv/home/christinedk/wp_internship/data\n"
     ]
    }
   ],
   "source": [
    "cd ../data/"
   ]
  },
  {
   "cell_type": "code",
   "execution_count": 11,
   "metadata": {},
   "outputs": [
    {
     "name": "stdout",
     "output_type": "stream",
     "text": [
      "tmp_talk-advert-meta-info.json         tmp_talk-peacock-meta-info.json\r\n",
      "tmp_talk-autobiography-meta-info.json  tmp_talk-weasel-meta-info.json\r\n",
      "tmp_talk-fanpov-meta-info.json\r\n"
     ]
    }
   ],
   "source": [
    "ls talk_history/"
   ]
  },
  {
   "cell_type": "code",
   "execution_count": 12,
   "metadata": {},
   "outputs": [],
   "source": [
    "with open(\"/srv/home/christinedk/wp_internship/data/talk_history/tmp_talk-autobiography-meta-info.json\",'r') as my_file:\n",
    "    text = [k for k in my_file.readlines()]"
   ]
  },
  {
   "cell_type": "code",
   "execution_count": 64,
   "metadata": {},
   "outputs": [],
   "source": [
    "df = pd.read_json('/srv/home/christinedk/wp_internship/data/talk_history/tmp_talk-autobiography-meta-info.json',\n",
    "             lines=True)"
   ]
  },
  {
   "cell_type": "code",
   "execution_count": 20,
   "metadata": {},
   "outputs": [
    {
     "data": {
      "text/plain": [
       "4198"
      ]
     },
     "execution_count": 20,
     "metadata": {},
     "output_type": "execute_result"
    }
   ],
   "source": [
    "df.page_title.nunique()"
   ]
  },
  {
   "cell_type": "code",
   "execution_count": 21,
   "metadata": {},
   "outputs": [],
   "source": [
    "blp = pd.read_csv('/srv/home/christinedk/wp_internship/data/namespaces.csv')\n",
    "blp = blp.query('page_namespace in (0,1)')"
   ]
  },
  {
   "cell_type": "code",
   "execution_count": 23,
   "metadata": {},
   "outputs": [
    {
     "data": {
      "text/html": [
       "<div>\n",
       "<style scoped>\n",
       "    .dataframe tbody tr th:only-of-type {\n",
       "        vertical-align: middle;\n",
       "    }\n",
       "\n",
       "    .dataframe tbody tr th {\n",
       "        vertical-align: top;\n",
       "    }\n",
       "\n",
       "    .dataframe thead th {\n",
       "        text-align: right;\n",
       "    }\n",
       "</style>\n",
       "<table border=\"1\" class=\"dataframe\">\n",
       "  <thead>\n",
       "    <tr style=\"text-align: right;\">\n",
       "      <th></th>\n",
       "      <th>page_id</th>\n",
       "      <th>page_title</th>\n",
       "      <th>revision_id</th>\n",
       "      <th>revision_minor_edit</th>\n",
       "      <th>revision_text</th>\n",
       "      <th>revision_timestamp</th>\n",
       "      <th>user_id</th>\n",
       "    </tr>\n",
       "  </thead>\n",
       "  <tbody>\n",
       "    <tr>\n",
       "      <th>0</th>\n",
       "      <td>44892193</td>\n",
       "      <td>Talk:Andy Bennett (musician)</td>\n",
       "      <td>640972602</td>\n",
       "      <td>False</td>\n",
       "      <td>I notice that the Andy Bennett page is under d...</td>\n",
       "      <td>2015-01-04T18:14:08Z</td>\n",
       "      <td>6127189</td>\n",
       "    </tr>\n",
       "    <tr>\n",
       "      <th>1</th>\n",
       "      <td>44892193</td>\n",
       "      <td>Talk:Andy Bennett (musician)</td>\n",
       "      <td>734817129</td>\n",
       "      <td>True</td>\n",
       "      <td>{{Old AfD multi|page=Andy Bennett (musician)|d...</td>\n",
       "      <td>2016-08-16T22:14:39Z</td>\n",
       "      <td>82835</td>\n",
       "    </tr>\n",
       "    <tr>\n",
       "      <th>2</th>\n",
       "      <td>44892193</td>\n",
       "      <td>Talk:Andy Bennett (musician)</td>\n",
       "      <td>640261007</td>\n",
       "      <td>False</td>\n",
       "      <td>I notice that the Andy Bennett page is under d...</td>\n",
       "      <td>2014-12-30T17:08:28Z</td>\n",
       "      <td>-1</td>\n",
       "    </tr>\n",
       "    <tr>\n",
       "      <th>3</th>\n",
       "      <td>44892193</td>\n",
       "      <td>Talk:Andy Bennett (musician)</td>\n",
       "      <td>643034413</td>\n",
       "      <td>False</td>\n",
       "      <td>{{Old AfD multi|page=Andy Bennett (musician)|d...</td>\n",
       "      <td>2015-01-18T10:48:10Z</td>\n",
       "      <td>1779282</td>\n",
       "    </tr>\n",
       "    <tr>\n",
       "      <th>4</th>\n",
       "      <td>44892193</td>\n",
       "      <td>Talk:Andy Bennett (musician)</td>\n",
       "      <td>744179144</td>\n",
       "      <td>False</td>\n",
       "      <td>{{Old AfD multi|page=Andy Bennett (musician)|d...</td>\n",
       "      <td>2016-10-13T16:16:31Z</td>\n",
       "      <td>27015025</td>\n",
       "    </tr>\n",
       "  </tbody>\n",
       "</table>\n",
       "</div>"
      ],
      "text/plain": [
       "    page_id                    page_title  revision_id  revision_minor_edit  \\\n",
       "0  44892193  Talk:Andy Bennett (musician)    640972602                False   \n",
       "1  44892193  Talk:Andy Bennett (musician)    734817129                 True   \n",
       "2  44892193  Talk:Andy Bennett (musician)    640261007                False   \n",
       "3  44892193  Talk:Andy Bennett (musician)    643034413                False   \n",
       "4  44892193  Talk:Andy Bennett (musician)    744179144                False   \n",
       "\n",
       "                                       revision_text    revision_timestamp  \\\n",
       "0  I notice that the Andy Bennett page is under d...  2015-01-04T18:14:08Z   \n",
       "1  {{Old AfD multi|page=Andy Bennett (musician)|d...  2016-08-16T22:14:39Z   \n",
       "2  I notice that the Andy Bennett page is under d...  2014-12-30T17:08:28Z   \n",
       "3  {{Old AfD multi|page=Andy Bennett (musician)|d...  2015-01-18T10:48:10Z   \n",
       "4  {{Old AfD multi|page=Andy Bennett (musician)|d...  2016-10-13T16:16:31Z   \n",
       "\n",
       "    user_id  \n",
       "0   6127189  \n",
       "1     82835  \n",
       "2        -1  \n",
       "3   1779282  \n",
       "4  27015025  "
      ]
     },
     "execution_count": 23,
     "metadata": {},
     "output_type": "execute_result"
    }
   ],
   "source": [
    "df.head()"
   ]
  },
  {
   "cell_type": "code",
   "execution_count": 29,
   "metadata": {},
   "outputs": [
    {
     "data": {
      "text/plain": [
       "'I notice that the Andy Bennett page is under dispute. I do not understand why this is happening as Andy is not only a musician in his own right who has been in the band Sargant and The Elements but also has a solo career, very similar to other present and past members of Ocean Colour Scene (Simon Fowler, Steve Craddock, Damon Minchella etc).\\n\\nHaving started performing with the band in 1997 he went on to write, record and perform all over the world with the band\\n\\nHe is signed to a record label in his own right as Andy Bennett and continues to work with the members of the band OCS in projects etc.\\n\\nPlease can Wikipedia offer some guidance regarding any missing information and I will endeavour to add this. Alfie Mahone[[Special:Contributions/94.3.44.171|94.3.44.171]] ([[User talk:94.3.44.171|talk]]) 17:08, 30 December 2014 (UTC)'"
      ]
     },
     "execution_count": 29,
     "metadata": {},
     "output_type": "execute_result"
    }
   ],
   "source": [
    "df.revision_text.values[2]"
   ]
  },
  {
   "cell_type": "code",
   "execution_count": 31,
   "metadata": {},
   "outputs": [
    {
     "data": {
      "text/plain": [
       "['I notice that the Andy Bennett page is under dispute. I do not understand why this is happening as Andy is not only a musician in his own right who has been in the band Sargant and The Elements but also has a solo career, very similar to other present and past members of Ocean Colour Scene (Simon Fowler, Steve Craddock, Damon Minchella etc).',\n",
       " 'Having started performing with the band in 1997 he went on to write, record and perform all over the world with the band',\n",
       " 'He is signed to a record label in his own right as Andy Bennett and continues to work with the members of the band OCS in projects etc.',\n",
       " 'Please can Wikipedia offer some guidance regarding any missing information and I will endeavour to add this. Alfie Mahone[[Special:Contributions/94.3.44.171|94.3.44.171]] ([[User talk:94.3.44.171|talk]]) 17:08, 30 December 2014 (UTC)',\n",
       " \"Alfie, you would be best to post at [[Wikipedia:Articles for deletion/Andy Bennett (musician)]], where the future of the page is being discussed. This page needs more reliable references to confirm that Bennett is notable ''independently'' of his role in OCS. Of course, the OCS article has information on him, and will continue to do so. If he is found non-notable independent of the band, [[Andy Bennett (musician)]] would redirect to Ocean Colour Scene, so interested readers would still find information on him. I don't know if the OCS article has information on how the band members have fared outwith the band, but it could be added if not. It needs to be established that Bennett meets [[WP:MUSICBIO]] or [[WP:GNG]] inependent of his work in OCS. If he is only notable for his work in OCS, then his information should only be in that article. I believe all members of OCS have their articles tagged as of dubious notability independent of the band. The other bands he has been in do not seem to be notable, and lots of professional musicians are successful, without reaching the level of [[WP:NOTABILITY]] required for the inclusion of an individual article in an encyclopaedia. I do hope some of that is helpful; good luck.. [[User:Boleyn|Boleyn]] ([[User talk:Boleyn|talk]]) 19:22, 30 December 2014 (UTC)\",\n",
       " 'Boleyn Thank you for you guidance regarding this issue I am slowly collating all of the other information I require in order to try and add all of the additional information required to meet the notability guidelines for Wikipedia. Pleased can I ask that prior to this article being deleted you can give me a minimum of two weeks to do this as I will only be able to pick up the research in my spare time.\\nRegards\\nAlfie mahone [[User:Alfiemahone1991|Alfiemahone1991]] ([[User talk:Alfiemahone1991|talk]]) 14:55, 3 January 2015 (UTC)',\n",
       " \"Hello, it is not up to me how ong is given before a decision is made on its deletion. Articles for Deletion discussions are meant to finish after a week, but can take 3 weeks if there is poor participation in the discussion. You may want to make a request for some time at the Articles for Deletion page. It is also unlikely that it would be deleted, it would be made a redirect to [[Ocean Colour Scene]], in which case you could [[WP:userfy]] the page and edit it later, although I suspect Bennett will be found non-notable independent of the band, but I'm happy to be proved wrong! Best wishes, [[User:Boleyn|Boleyn]] ([[User talk:Boleyn|talk]]) 18:14, 4 January 2015 (UTC)\"]"
      ]
     },
     "execution_count": 31,
     "metadata": {},
     "output_type": "execute_result"
    }
   ],
   "source": [
    "df.revision_text.values[0].split('\\n\\n')"
   ]
  },
  {
   "cell_type": "code",
   "execution_count": 22,
   "metadata": {
    "scrolled": true
   },
   "outputs": [
    {
     "name": "stderr",
     "output_type": "stream",
     "text": [
      "\r",
      "  0%|          | 0/82635 [00:00<?, ?it/s]"
     ]
    },
    {
     "ename": "ValueError",
     "evalue": "invalid literal for int() with base 10: 'r'",
     "output_type": "error",
     "traceback": [
      "\u001b[0;31m---------------------------------------------------------------------------\u001b[0m",
      "\u001b[0;31mValueError\u001b[0m                                Traceback (most recent call last)",
      "\u001b[0;32m<ipython-input-22-25f4e4be0e47>\u001b[0m in \u001b[0;36m<module>\u001b[0;34m\u001b[0m\n\u001b[0;32m----> 1\u001b[0;31m \u001b[0mtext_blp\u001b[0m \u001b[0;34m=\u001b[0m \u001b[0;34m[\u001b[0m\u001b[0mi\u001b[0m \u001b[0;32mfor\u001b[0m \u001b[0mi\u001b[0m \u001b[0;32min\u001b[0m \u001b[0mtqdm\u001b[0m\u001b[0;34m(\u001b[0m\u001b[0mtext\u001b[0m\u001b[0;34m[\u001b[0m\u001b[0;36m1\u001b[0m\u001b[0;34m:\u001b[0m\u001b[0;34m]\u001b[0m\u001b[0;34m)\u001b[0m \u001b[0;32mif\u001b[0m \u001b[0mint\u001b[0m\u001b[0;34m(\u001b[0m\u001b[0mi\u001b[0m\u001b[0;34m[\u001b[0m\u001b[0;36m2\u001b[0m\u001b[0;34m]\u001b[0m\u001b[0;34m)\u001b[0m \u001b[0;32min\u001b[0m \u001b[0mblp\u001b[0m\u001b[0;34m.\u001b[0m\u001b[0mpage_id\u001b[0m\u001b[0;34m.\u001b[0m\u001b[0mvalues\u001b[0m\u001b[0;34m]\u001b[0m\u001b[0;34m\u001b[0m\u001b[0;34m\u001b[0m\u001b[0m\n\u001b[0m",
      "\u001b[0;32m<ipython-input-22-25f4e4be0e47>\u001b[0m in \u001b[0;36m<listcomp>\u001b[0;34m(.0)\u001b[0m\n\u001b[0;32m----> 1\u001b[0;31m \u001b[0mtext_blp\u001b[0m \u001b[0;34m=\u001b[0m \u001b[0;34m[\u001b[0m\u001b[0mi\u001b[0m \u001b[0;32mfor\u001b[0m \u001b[0mi\u001b[0m \u001b[0;32min\u001b[0m \u001b[0mtqdm\u001b[0m\u001b[0;34m(\u001b[0m\u001b[0mtext\u001b[0m\u001b[0;34m[\u001b[0m\u001b[0;36m1\u001b[0m\u001b[0;34m:\u001b[0m\u001b[0;34m]\u001b[0m\u001b[0;34m)\u001b[0m \u001b[0;32mif\u001b[0m \u001b[0mint\u001b[0m\u001b[0;34m(\u001b[0m\u001b[0mi\u001b[0m\u001b[0;34m[\u001b[0m\u001b[0;36m2\u001b[0m\u001b[0;34m]\u001b[0m\u001b[0;34m)\u001b[0m \u001b[0;32min\u001b[0m \u001b[0mblp\u001b[0m\u001b[0;34m.\u001b[0m\u001b[0mpage_id\u001b[0m\u001b[0;34m.\u001b[0m\u001b[0mvalues\u001b[0m\u001b[0;34m]\u001b[0m\u001b[0;34m\u001b[0m\u001b[0;34m\u001b[0m\u001b[0m\n\u001b[0m",
      "\u001b[0;31mValueError\u001b[0m: invalid literal for int() with base 10: 'r'"
     ]
    }
   ],
   "source": [
    "text_blp = [i for i in tqdm(text[1:]) if int(i[2]) in blp.page_id.values]"
   ]
  },
  {
   "cell_type": "code",
   "execution_count": 21,
   "metadata": {},
   "outputs": [],
   "source": [
    "revisions = pd.DataFrame(text_blp, columns=text[0])\n",
    "revisions['page_namespace'] = revisions['page_namespace'].astype(int)\n",
    "revisions = revisions.query('page_namespace in (0,1)')"
   ]
  },
  {
   "cell_type": "code",
   "execution_count": 30,
   "metadata": {},
   "outputs": [],
   "source": [
    "def get_edits_pre_tag(data):\n",
    "    ix = data['has_template'].idxmax()\n",
    "\n",
    "    return data.loc[:ix]"
   ]
  },
  {
   "cell_type": "code",
   "execution_count": 31,
   "metadata": {},
   "outputs": [],
   "source": [
    "revisions = revisions.sort_values(by=['page_id','revision_id'], ascending=True)\n",
    "revisions['has_template'] = revisions['has_template'].fillna(0).astype(int)\n",
    "pre_edit = revisions.groupby('page_id').apply(get_edits_pre_tag)\n",
    "pre_edit.reset_index(drop=True, inplace=True)"
   ]
  },
  {
   "cell_type": "code",
   "execution_count": 32,
   "metadata": {},
   "outputs": [
    {
     "data": {
      "text/plain": [
       "page_namespace\n",
       "0    631111\n",
       "1     67967\n",
       "Name: page_id, dtype: int64"
      ]
     },
     "execution_count": 32,
     "metadata": {},
     "output_type": "execute_result"
    }
   ],
   "source": [
    "revisions.groupby(['page_namespace'])['page_id'].count()"
   ]
  },
  {
   "cell_type": "code",
   "execution_count": 33,
   "metadata": {},
   "outputs": [
    {
     "data": {
      "text/plain": [
       "page_namespace\n",
       "0    3643\n",
       "1    3643\n",
       "Name: page_id, dtype: int64"
      ]
     },
     "execution_count": 33,
     "metadata": {},
     "output_type": "execute_result"
    }
   ],
   "source": [
    "revisions.groupby(['page_namespace'])['page_id'].nunique()"
   ]
  },
  {
   "cell_type": "code",
   "execution_count": null,
   "metadata": {},
   "outputs": [],
   "source": []
  },
  {
   "cell_type": "code",
   "execution_count": 34,
   "metadata": {},
   "outputs": [],
   "source": [
    "# persist"
   ]
  },
  {
   "cell_type": "code",
   "execution_count": 35,
   "metadata": {},
   "outputs": [],
   "source": [
    "revisions.to_csv('/srv/home/christinedk/wp_internship/data/autobiography.csv',index=False)"
   ]
  },
  {
   "cell_type": "code",
   "execution_count": 36,
   "metadata": {},
   "outputs": [],
   "source": [
    "with open('//srv/home/christinedk/wp_internship/data/autobiography.json','w') as f:\n",
    "    json.dump(revisions.to_dict(orient='records'),f)"
   ]
  },
  {
   "cell_type": "code",
   "execution_count": null,
   "metadata": {},
   "outputs": [],
   "source": []
  }
 ],
 "metadata": {
  "kernelspec": {
   "display_name": "Python 3",
   "language": "python",
   "name": "python3"
  },
  "language_info": {
   "codemirror_mode": {
    "name": "ipython",
    "version": 3
   },
   "file_extension": ".py",
   "mimetype": "text/x-python",
   "name": "python",
   "nbconvert_exporter": "python",
   "pygments_lexer": "ipython3",
   "version": "3.7.3"
  }
 },
 "nbformat": 4,
 "nbformat_minor": 2
}
