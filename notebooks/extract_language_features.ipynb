{
 "cells": [
  {
   "cell_type": "code",
   "execution_count": null,
   "metadata": {},
   "outputs": [],
   "source": [
    "%load_ext autoreload\n",
    "%autoreload 2"
   ]
  },
  {
   "cell_type": "code",
   "execution_count": 9,
   "metadata": {},
   "outputs": [],
   "source": [
    "import sys\n",
    "sys.path.append('/Users/christinedekock/wp_internship/collaboration/')\n",
    "\n",
    "import pandas as pd\n",
    "from dateutil import parser\n",
    "import datetime\n",
    "import numpy as np\n",
    "import json\n",
    "import matplotlib.pylab as plt\n",
    "\n",
    "from utils import get_edits_pre_tag\n",
    "from features.politeness import *"
   ]
  },
  {
   "cell_type": "code",
   "execution_count": 10,
   "metadata": {},
   "outputs": [
    {
     "name": "stderr",
     "output_type": "stream",
     "text": [
      "/Users/christinedekock/opt/anaconda3/envs/ml_env/lib/python3.7/site-packages/IPython/core/interactiveshell.py:3058: DtypeWarning: Columns (7,12) have mixed types. Specify dtype option on import or set low_memory=False.\n",
      "  interactivity=interactivity, compiler=compiler, result=result)\n"
     ]
    }
   ],
   "source": [
    "revisions = pd.read_csv('/Users/christinedekock/wp_internship/data/formatted_data/autobiography.csv')"
   ]
  },
  {
   "cell_type": "code",
   "execution_count": 13,
   "metadata": {},
   "outputs": [],
   "source": [
    "revisions['event_timestamp'] = pd.to_datetime(revisions['event_timestamp'])\n",
    "articles = revisions[revisions.page_namespace==0]"
   ]
  },
  {
   "cell_type": "code",
   "execution_count": 43,
   "metadata": {},
   "outputs": [
    {
     "name": "stderr",
     "output_type": "stream",
     "text": [
      "/Users/christinedekock/opt/anaconda3/envs/ml_env/lib/python3.7/site-packages/ipykernel_launcher.py:1: SettingWithCopyWarning: \n",
      "A value is trying to be set on a copy of a slice from a DataFrame.\n",
      "Try using .loc[row_indexer,col_indexer] = value instead\n",
      "\n",
      "See the caveats in the documentation: http://pandas.pydata.org/pandas-docs/stable/user_guide/indexing.html#returning-a-view-versus-a-copy\n",
      "  \"\"\"Entry point for launching an IPython kernel.\n",
      "/Users/christinedekock/opt/anaconda3/envs/ml_env/lib/python3.7/site-packages/ipykernel_launcher.py:2: SettingWithCopyWarning: \n",
      "A value is trying to be set on a copy of a slice from a DataFrame.\n",
      "Try using .loc[row_indexer,col_indexer] = value instead\n",
      "\n",
      "See the caveats in the documentation: http://pandas.pydata.org/pandas-docs/stable/user_guide/indexing.html#returning-a-view-versus-a-copy\n",
      "  \n"
     ]
    }
   ],
   "source": [
    "articles['event_user_id'] = articles['event_user_id'].astype(str)\n",
    "articles['revision_id'] = articles['revision_id'].astype(str)"
   ]
  },
  {
   "cell_type": "code",
   "execution_count": 44,
   "metadata": {},
   "outputs": [
    {
     "name": "stderr",
     "output_type": "stream",
     "text": [
      "\n",
      " 17%|█▋        | 105249/627915 [00:29<01:03, 8282.90it/s]\u001b[A"
     ]
    }
   ],
   "source": [
    "utts = articles.to_dict('records')"
   ]
  },
  {
   "cell_type": "code",
   "execution_count": 45,
   "metadata": {},
   "outputs": [],
   "source": [
    "users = [utt['event_user_id'] for utt in utts]"
   ]
  },
  {
   "cell_type": "code",
   "execution_count": 46,
   "metadata": {},
   "outputs": [],
   "source": [
    "def reconstruct_corpus(dataset):\n",
    "    users = [utt['event_user_id'] for utt in dataset] \n",
    "    users = np.unique(users)\n",
    "    users_dict = {user: User(name=user) for user in users}\n",
    "\n",
    "    utterances = []\n",
    "\n",
    "    for utt in tqdm(dataset):\n",
    "        user = users_dict[utt['event_user_id']] if utt['event_user_id'] is not None else users_dict['none']\n",
    "        utterances.append(Utterance(id=utt['revision_id'], user=user, text=utt['event_comment\\n']))\n",
    "\n",
    "    corpus = Corpus(utterances=utterances)\n",
    "\n",
    "    return corpus"
   ]
  },
  {
   "cell_type": "code",
   "execution_count": 47,
   "metadata": {
    "scrolled": true
   },
   "outputs": [
    {
     "name": "stderr",
     "output_type": "stream",
     "text": [
      "\n",
      "\n",
      "  0%|          | 0/627915 [00:00<?, ?it/s]\u001b[A\u001b[A\n",
      "\n",
      "  6%|▌         | 35161/627915 [00:00<00:01, 351609.50it/s]\u001b[A\u001b[A\n",
      "\n",
      " 11%|█         | 68425/627915 [00:00<00:01, 345694.37it/s]\u001b[A\u001b[A\n",
      "\n",
      " 16%|█▋        | 103594/627915 [00:00<00:01, 347471.34it/s]\u001b[A\u001b[A\n",
      "\n",
      " 22%|██▏       | 137668/627915 [00:00<00:01, 345421.27it/s]\u001b[A\u001b[A\n",
      "\n",
      " 27%|██▋       | 166877/627915 [00:00<00:01, 327482.00it/s]\u001b[A\u001b[A\n",
      "\n",
      " 32%|███▏      | 199550/627915 [00:00<00:01, 327254.02it/s]\u001b[A\u001b[A\n",
      "\n",
      " 37%|███▋      | 232947/627915 [00:00<00:01, 329239.44it/s]\u001b[A\u001b[A\n",
      "\n",
      " 43%|████▎     | 266915/627915 [00:00<00:01, 332303.45it/s]\u001b[A\u001b[A\n",
      "\n",
      " 48%|████▊     | 299824/627915 [00:00<00:00, 331330.80it/s]\u001b[A\u001b[A\n",
      "\n",
      " 53%|█████▎    | 334878/627915 [00:01<00:00, 336378.96it/s]\u001b[A\u001b[A\n",
      "\n",
      " 59%|█████▉    | 371649/627915 [00:01<00:00, 345202.35it/s]\u001b[A\u001b[A\n",
      "\n",
      " 65%|██████▍   | 407187/627915 [00:01<00:00, 348193.76it/s]\u001b[A\u001b[A\n",
      "\n",
      " 70%|███████   | 442164/627915 [00:01<00:00, 348655.54it/s]\u001b[A\u001b[A\n",
      "\n",
      " 76%|███████▌  | 478355/627915 [00:01<00:00, 352345.77it/s]\u001b[A\u001b[A\n",
      "\n",
      " 82%|████████▏ | 513398/627915 [00:03<00:01, 62278.25it/s] \u001b[A\u001b[A\n",
      "\n",
      " 88%|████████▊ | 549762/627915 [00:03<00:00, 82885.26it/s]\u001b[A\u001b[A\n",
      "\n",
      " 93%|█████████▎| 584709/627915 [00:03<00:00, 107482.25it/s]\u001b[A\u001b[A\n",
      "\n",
      "100%|██████████| 627915/627915 [00:03<00:00, 186602.28it/s]\u001b[A\u001b[A\n"
     ]
    }
   ],
   "source": [
    "corpus = reconstruct_corpus(utts)"
   ]
  },
  {
   "cell_type": "code",
   "execution_count": 48,
   "metadata": {},
   "outputs": [],
   "source": [
    "parser = TextParser(verbosity=0)\n",
    "parsed_corpus = parser.transform(corpus)"
   ]
  },
  {
   "cell_type": "code",
   "execution_count": 49,
   "metadata": {},
   "outputs": [],
   "source": [
    "ps = PolitenessStrategies(verbose=False)\n",
    "awry_corpus = ps.transform(parsed_corpus, markers=True)"
   ]
  },
  {
   "cell_type": "code",
   "execution_count": 50,
   "metadata": {},
   "outputs": [
    {
     "name": "stderr",
     "output_type": "stream",
     "text": [
      "\n",
      "\n",
      "  0%|          | 0/1 [00:00<?, ?it/s]\u001b[A\u001b[A\n",
      "\n",
      "100%|██████████| 1/1 [00:07<00:00,  7.35s/it]\u001b[A\u001b[A\n"
     ]
    }
   ],
   "source": [
    "feat_dict = format_politeness_features(awry_corpus)"
   ]
  },
  {
   "cell_type": "code",
   "execution_count": 51,
   "metadata": {},
   "outputs": [
    {
     "ename": "NameError",
     "evalue": "name 'dataset' is not defined",
     "output_type": "error",
     "traceback": [
      "\u001b[0;31m---------------------------------------------------------------------------\u001b[0m",
      "\u001b[0;31mNameError\u001b[0m                                 Traceback (most recent call last)",
      "\u001b[0;32m<ipython-input-51-7c99a35030b6>\u001b[0m in \u001b[0;36m<module>\u001b[0;34m\u001b[0m\n\u001b[1;32m      1\u001b[0m \u001b[0mpoliteness_dataset\u001b[0m \u001b[0;34m=\u001b[0m \u001b[0;34m[\u001b[0m\u001b[0;34m]\u001b[0m\u001b[0;34m\u001b[0m\u001b[0;34m\u001b[0m\u001b[0m\n\u001b[1;32m      2\u001b[0m \u001b[0;34m\u001b[0m\u001b[0m\n\u001b[0;32m----> 3\u001b[0;31m \u001b[0;32mfor\u001b[0m \u001b[0md\u001b[0m \u001b[0;32min\u001b[0m \u001b[0mdataset\u001b[0m\u001b[0;34m:\u001b[0m\u001b[0;34m\u001b[0m\u001b[0;34m\u001b[0m\u001b[0m\n\u001b[0m\u001b[1;32m      4\u001b[0m     \u001b[0mconv_id\u001b[0m \u001b[0;34m=\u001b[0m \u001b[0md\u001b[0m\u001b[0;34m[\u001b[0m\u001b[0;36m0\u001b[0m\u001b[0;34m]\u001b[0m\u001b[0;34m[\u001b[0m\u001b[0;34m'conv_id'\u001b[0m\u001b[0;34m]\u001b[0m\u001b[0;34m\u001b[0m\u001b[0;34m\u001b[0m\u001b[0m\n\u001b[1;32m      5\u001b[0m     \u001b[0mfeatures\u001b[0m \u001b[0;34m=\u001b[0m \u001b[0mfeat_dict\u001b[0m\u001b[0;34m[\u001b[0m\u001b[0mconv_id\u001b[0m\u001b[0;34m]\u001b[0m\u001b[0;34m\u001b[0m\u001b[0;34m\u001b[0m\u001b[0m\n",
      "\u001b[0;31mNameError\u001b[0m: name 'dataset' is not defined"
     ]
    }
   ],
   "source": [
    "politeness_dataset = []\n",
    "\n",
    "for d in dataset:\n",
    "    conv_id = d[0]['conv_id']\n",
    "    features = feat_dict[conv_id]\n",
    "    politeness_dataset.append(features)"
   ]
  },
  {
   "cell_type": "code",
   "execution_count": null,
   "metadata": {},
   "outputs": [],
   "source": []
  }
 ],
 "metadata": {
  "kernelspec": {
   "display_name": "Python 3",
   "language": "python",
   "name": "python3"
  },
  "language_info": {
   "codemirror_mode": {
    "name": "ipython",
    "version": 3
   },
   "file_extension": ".py",
   "mimetype": "text/x-python",
   "name": "python",
   "nbconvert_exporter": "python",
   "pygments_lexer": "ipython3",
   "version": "3.7.5"
  }
 },
 "nbformat": 4,
 "nbformat_minor": 2
}
