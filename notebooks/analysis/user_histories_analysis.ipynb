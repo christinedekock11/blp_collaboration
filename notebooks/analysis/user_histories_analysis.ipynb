{
 "cells": [
  {
   "cell_type": "code",
   "execution_count": 2,
   "metadata": {},
   "outputs": [],
   "source": [
    "%load_ext autoreload\n",
    "%autoreload 2\n",
    "\n",
    "import sys\n",
    "HOME='/srv/home/christinedk/wp_internship/'\n",
    "sys.path.append(HOME + 'collaboration/')\n",
    "from config import TEMPLATES"
   ]
  },
  {
   "cell_type": "code",
   "execution_count": 3,
   "metadata": {},
   "outputs": [],
   "source": [
    "import pandas as pd\n",
    "import numpy as np\n",
    "from time  import time\n",
    "import matplotlib.pylab as plt\n",
    "from pyspark.sql.functions import udf, col, explode, regexp_replace, first, mean, size, count, collect_list\n",
    "\n",
    "from data_export import getTemplatesRegexRelaibility, getTemplatesRegex"
   ]
  },
  {
   "cell_type": "code",
   "execution_count": 4,
   "metadata": {},
   "outputs": [
    {
     "name": "stdout",
     "output_type": "stream",
     "text": [
      "mkdir: `page_history': File exists\r\n"
     ]
    }
   ],
   "source": [
    "TEMPLATES = ['weasel','peacock','autobiography','advert','fanpov']\n",
    "outputHDFS = 'page_history'\n",
    "!hadoop fs -mkdir $outputHDFS"
   ]
  },
  {
   "cell_type": "code",
   "execution_count": null,
   "metadata": {},
   "outputs": [],
   "source": []
  },
  {
   "cell_type": "markdown",
   "metadata": {},
   "source": [
    "# Get full edit history of pages and editors"
   ]
  },
  {
   "cell_type": "code",
   "execution_count": 43,
   "metadata": {},
   "outputs": [],
   "source": [
    "## Read back revisions with template\n",
    "revisions_with_template = spark.read.parquet(outputHDFS+'/templates.parquet')"
   ]
  },
  {
   "cell_type": "code",
   "execution_count": 44,
   "metadata": {},
   "outputs": [],
   "source": [
    "## Select subset of mediawiki history containing all page titles with revisions\n",
    "\n",
    "pages_templates_subset = revisions_with_template.select('page_title').distinct()\n",
    "pages_templates_subset.createOrReplaceTempView('pages_templates_subset')\n",
    "\n",
    "mediawiki_history_subset =  spark.sql('''\n",
    "        SELECT w.page_title,w.page_id,w.event_user_is_anonymous,w.event_user_id\n",
    "        FROM wmf.mediawiki_history w\n",
    "        WHERE w.snapshot =\"2020-09\" and w.wiki_db =\"enwiki\" AND  \n",
    "        w.event_entity = 'revision' AND w.page_title IN (\n",
    "                    SELECT page_title FROM pages_templates_subset)                   \n",
    "        ''')\n",
    "mediawiki_history_subset.cache()\n",
    "mediawiki_history_subset.createOrReplaceTempView('mediawiki_history_subset')"
   ]
  },
  {
   "cell_type": "code",
   "execution_count": 189,
   "metadata": {
    "scrolled": true
   },
   "outputs": [
    {
     "name": "stdout",
     "output_type": "stream",
     "text": [
      "autobiography\n",
      "read table, done 0.1176140308380127\n",
      "found users, done -0.06753659248352051\n",
      "extracting user histories\n",
      "----- 0.06150054931640625\n"
     ]
    }
   ],
   "source": [
    "## Get full histories of these pages *and* all editors who revised them\n",
    "\n",
    "for template in ['autobiography']:#,'fanpov','advert']:#TEMPLATES:\n",
    "    try:\n",
    "        outputHDFS = 'page_history'\n",
    "        t1 = time()\n",
    "        print(template)\n",
    "        df = revisions_with_template.where(revisions_with_template['col']==template) # \n",
    "        df.cache()\n",
    "        t2 = time()\n",
    "        print('read table, done',t2-t1)\n",
    "        t1 = time()\n",
    "        page_ids = df.select('page_title').distinct()\n",
    "        page_ids.createOrReplaceTempView('tmp_page_ids')\n",
    "        users = spark.sql('''\n",
    "        SELECT DISTINCT w.event_user_id\n",
    "        FROM mediawiki_history_subset w \n",
    "        WHERE w.page_title IN (SELECT page_title FROM tmp_page_ids)\n",
    "        AND w.event_user_is_anonymous = 0\n",
    "        ''') \n",
    "        users.createOrReplaceTempView('tmp_users')\n",
    "        t1 = time()\n",
    "        print('found users, done',t2-t1)\n",
    "\n",
    "        print('extracting user histories')\n",
    "        t1 = time()\n",
    "        user_histories =  spark.sql('''\n",
    "        SELECT w.event_user_id, \n",
    "        SIZE(w.event_user_is_bot_by) is_bot\n",
    "        FROM wmf.mediawiki_history w\n",
    "        WHERE w.snapshot =\"2020-09\" and w.wiki_db =\"enwiki\" AND  \n",
    "        w.event_entity = 'revision' \n",
    "        AND w.event_user_id IN (SELECT event_user_id FROM tmp_users)\n",
    "        ''') #think about anonymous users, order by, deleted revision\n",
    "        user_histories.cache()\n",
    "        t2=time()\n",
    "        print('-----',t2-t1)\n",
    "    \n",
    "    except Exception as e:\n",
    "        print('error',e)"
   ]
  },
  {
   "cell_type": "code",
   "execution_count": 190,
   "metadata": {},
   "outputs": [],
   "source": [
    "user_counts = user_histories.groupby('event_user_id').count().toPandas()"
   ]
  },
  {
   "cell_type": "code",
   "execution_count": 191,
   "metadata": {
    "scrolled": true
   },
   "outputs": [],
   "source": [
    "counts = user_counts.sort_values(by='count',ascending=False)['count'].values"
   ]
  },
  {
   "cell_type": "code",
   "execution_count": 196,
   "metadata": {},
   "outputs": [
    {
     "data": {
      "image/png": "[encoded data removed]",
      "text/plain": [
       "<Figure size 432x288 with 1 Axes>"
      ]
     },
     "metadata": {
      "needs_background": "light"
     },
     "output_type": "display_data"
    }
   ],
   "source": [
    "plt.ticklabel_format(style='sci', axis='both',scilimits=(0,0))\n",
    "import numpy as np\n",
    "\n",
    "plt.scatter(np.log10(np.arange(len(counts))+1),np.log10(counts))\n",
    "yy=plt.yticks(np.arange(0,8,2),10**np.arange(0,8,2))\n",
    "xx=plt.xticks(np.arange(0,6,2),10**np.arange(0,6,2),rotation=90)\n",
    "plt.grid()\n",
    "plt.ylabel('Count')\n",
    "plt.xlabel('Rank')\n",
    "plt.show()"
   ]
  },
  {
   "cell_type": "code",
   "execution_count": 121,
   "metadata": {},
   "outputs": [],
   "source": [
    "bots = user_histories.groupby('event_user_id').agg(first('size(event_user_is_bot_by)')).toPandas()"
   ]
  },
  {
   "cell_type": "code",
   "execution_count": 127,
   "metadata": {
    "scrolled": false
   },
   "outputs": [],
   "source": [
    "bots['is_bot'] = (bots['first(size(event_user_is_bot_by), false)']>0).astype(int)"
   ]
  },
  {
   "cell_type": "code",
   "execution_count": 129,
   "metadata": {},
   "outputs": [
    {
     "data": {
      "text/plain": [
       "0.009464801581268055"
      ]
     },
     "execution_count": 129,
     "metadata": {},
     "output_type": "execute_result"
    }
   ],
   "source": [
    "bots['is_bot'].mean()"
   ]
  },
  {
   "cell_type": "code",
   "execution_count": 132,
   "metadata": {},
   "outputs": [],
   "source": [
    "user_histories = user_histories.withColumn(\"bot\",(col('size(event_user_is_bot_by)')>0).cast(\"long\"))"
   ]
  },
  {
   "cell_type": "code",
   "execution_count": 133,
   "metadata": {
    "scrolled": false
   },
   "outputs": [
    {
     "name": "stdout",
     "output_type": "stream",
     "text": [
      "+-------------------+\n",
      "|           avg(bot)|\n",
      "+-------------------+\n",
      "|0.21892918015453197|\n",
      "+-------------------+\n",
      "\n"
     ]
    }
   ],
   "source": [
    "user_histories.select(F.mean(col('bot'))).show()"
   ]
  },
  {
   "cell_type": "code",
   "execution_count": 134,
   "metadata": {
    "scrolled": true
   },
   "outputs": [
    {
     "name": "stdout",
     "output_type": "stream",
     "text": [
      "+---------+\n",
      "| sum(bot)|\n",
      "+---------+\n",
      "|106672366|\n",
      "+---------+\n",
      "\n"
     ]
    }
   ],
   "source": [
    "user_histories.select(F.sum(col('bot'))).show()"
   ]
  },
  {
   "cell_type": "code",
   "execution_count": null,
   "metadata": {},
   "outputs": [],
   "source": []
  },
  {
   "cell_type": "markdown",
   "metadata": {},
   "source": [
    "# Exclude bots"
   ]
  },
  {
   "cell_type": "code",
   "execution_count": 45,
   "metadata": {},
   "outputs": [
    {
     "name": "stdout",
     "output_type": "stream",
     "text": [
      "weasel\n",
      "read table, done 0.00712275505065918\n",
      "found users, done -0.030977249145507812\n",
      "extracting user histories\n",
      "----- 172.21308541297913\n",
      "peacock\n",
      "read table, done 0.008663654327392578\n",
      "found users, done -0.04720473289489746\n",
      "extracting user histories\n",
      "----- 48.20999026298523\n",
      "autobiography\n",
      "read table, done 0.005991458892822266\n",
      "found users, done -0.029736757278442383\n",
      "extracting user histories\n",
      "----- 44.23067378997803\n",
      "advert\n",
      "read table, done 0.006903886795043945\n",
      "found users, done -0.03308582305908203\n",
      "extracting user histories\n",
      "----- 42.23804521560669\n",
      "fanpov\n",
      "read table, done 0.007677555084228516\n",
      "found users, done -0.04140734672546387\n",
      "extracting user histories\n",
      "----- 43.13214039802551\n"
     ]
    }
   ],
   "source": [
    "## Get full histories of these pages *and* all editors who revised them\n",
    "## without bots\n",
    "\n",
    "tag_users = {}\n",
    "\n",
    "for template in TEMPLATES:\n",
    "    try:\n",
    "        outputHDFS = 'page_history'\n",
    "        t1 = time()\n",
    "        print(template)\n",
    "        df = revisions_with_template.where(revisions_with_template['col']==template) # \n",
    "        df.cache()\n",
    "        t2 = time()\n",
    "        print('read table, done',t2-t1)\n",
    "        t1 = time()\n",
    "        page_ids = df.select('page_title').distinct()\n",
    "        page_ids.createOrReplaceTempView('tmp_page_ids')\n",
    "        users = spark.sql('''\n",
    "        SELECT DISTINCT w.event_user_id\n",
    "        FROM mediawiki_history_subset w \n",
    "        WHERE w.page_title IN (SELECT page_title FROM tmp_page_ids)\n",
    "        AND w.event_user_is_anonymous = 0\n",
    "        ''') \n",
    "        users.createOrReplaceTempView('tmp_users')\n",
    "        t1 = time()\n",
    "        print('found users, done',t2-t1)\n",
    "\n",
    "        print('extracting user histories')\n",
    "        t1 = time()\n",
    "        user_histories =  spark.sql('''\n",
    "        SELECT w.event_user_id, COUNT(w.event_user_id)\n",
    "        FROM wmf.mediawiki_history w\n",
    "        WHERE w.snapshot =\"2020-09\" and w.wiki_db =\"enwiki\" AND  \n",
    "        w.event_entity = 'revision' \n",
    "        AND w.event_user_id IN (SELECT event_user_id FROM tmp_users)\n",
    "        AND SIZE(w.event_user_is_bot_by) = 0\n",
    "        GROUP BY w.event_user_id\n",
    "        ''') #think about anonymous users, order by, deleted revision\n",
    "        user_histories.cache()\n",
    "        tag_users[template] = user_histories.toPandas()\n",
    "        t2=time()\n",
    "        print('-----',t2-t1)\n",
    "    \n",
    "    except Exception as e:\n",
    "        print('error',e)"
   ]
  },
  {
   "cell_type": "code",
   "execution_count": 44,
   "metadata": {},
   "outputs": [
    {
     "name": "stdout",
     "output_type": "stream",
     "text": [
      "weasel\n",
      "peacock\n",
      "autobiography\n",
      "advert\n",
      "fanpov\n"
     ]
    },
    {
     "data": {
      "image/png": "[encoded data removed]",
      "text/plain": [
       "<Figure size 864x504 with 1 Axes>"
      ]
     },
     "metadata": {
      "needs_background": "light"
     },
     "output_type": "display_data"
    }
   ],
   "source": [
    "plt.figure(figsize=[12,7])\n",
    "\n",
    "for template in TEMPLATES:\n",
    "    print(template)\n",
    "    counts = tag_users[template].sort_values(by='count(event_user_id)',ascending=False)['count(event_user_id)'].values\n",
    "\n",
    "    plt.scatter(np.log10(np.arange(len(counts))+1),np.log10(counts),label=template,alpha=0.5,s=10)\n",
    "    yy=plt.yticks(np.arange(0,8,2),10**np.arange(0,8,2))\n",
    "    xx=plt.xticks(np.arange(0,8,2),10**np.arange(0,8,2),rotation=90)\n",
    "plt.grid()\n",
    "plt.ylabel('Count')\n",
    "plt.xlabel('Rank')\n",
    "plt.legend()\n",
    "plt.show()"
   ]
  },
  {
   "cell_type": "code",
   "execution_count": 185,
   "metadata": {
    "scrolled": false
   },
   "outputs": [
    {
     "name": "stdout",
     "output_type": "stream",
     "text": [
      "WEASEL\n",
      "Num users: 135483\n",
      "\t+ peacock:\n",
      "\t\tUsers overlap: 51627 Frac: 0.38\n",
      "\t\tEdits overlap: 420225115 Frac: 0.931\n",
      "\t+ autobiography:\n",
      "\t\tUsers overlap: 20440 Frac: 0.15\n",
      "\t\tEdits overlap: 363399052 Frac: 0.805\n",
      "\t+ advert:\n",
      "\t\tUsers overlap: 44477 Frac: 0.33\n",
      "\t\tEdits overlap: 414430423 Frac: 0.918\n",
      "\t+ fanpov:\n",
      "\t\tUsers overlap: 19972 Frac: 0.15\n",
      "\t\tEdits overlap: 335196215 Frac: 0.743\n",
      "\n",
      "PEACOCK\n",
      "Num users: 144522\n",
      "\t+ weasel:\n",
      "\t\tUsers overlap: 51627 Frac: 0.36\n",
      "\t\tEdits overlap: 420225115 Frac: 0.924\n",
      "\t+ autobiography:\n",
      "\t\tUsers overlap: 23460 Frac: 0.16\n",
      "\t\tEdits overlap: 366852352 Frac: 0.807\n",
      "\t+ advert:\n",
      "\t\tUsers overlap: 48739 Frac: 0.34\n",
      "\t\tEdits overlap: 418372708 Frac: 0.92\n",
      "\t+ fanpov:\n",
      "\t\tUsers overlap: 24976 Frac: 0.17\n",
      "\t\tEdits overlap: 338854548 Frac: 0.745\n",
      "\n",
      "AUTOBIOGRAPHY\n",
      "Num users: 52117\n",
      "\t+ weasel:\n",
      "\t\tUsers overlap: 20440 Frac: 0.39\n",
      "\t\tEdits overlap: 363399052 Frac: 0.956\n",
      "\t+ peacock:\n",
      "\t\tUsers overlap: 23460 Frac: 0.45\n",
      "\t\tEdits overlap: 366852352 Frac: 0.965\n",
      "\t+ advert:\n",
      "\t\tUsers overlap: 24309 Frac: 0.47\n",
      "\t\tEdits overlap: 367445961 Frac: 0.966\n",
      "\t+ fanpov:\n",
      "\t\tUsers overlap: 12493 Frac: 0.24\n",
      "\t\tEdits overlap: 311623831 Frac: 0.819\n",
      "\n",
      "ADVERT\n",
      "Num users: 143381\n",
      "\t+ weasel:\n",
      "\t\tUsers overlap: 44477 Frac: 0.31\n",
      "\t\tEdits overlap: 414430423 Frac: 0.922\n",
      "\t+ peacock:\n",
      "\t\tUsers overlap: 48739 Frac: 0.34\n",
      "\t\tEdits overlap: 418372708 Frac: 0.931\n",
      "\t+ autobiography:\n",
      "\t\tUsers overlap: 24309 Frac: 0.17\n",
      "\t\tEdits overlap: 367445961 Frac: 0.818\n",
      "\t+ fanpov:\n",
      "\t\tUsers overlap: 22743 Frac: 0.16\n",
      "\t\tEdits overlap: 336502411 Frac: 0.749\n",
      "\n",
      "FANPOV\n",
      "Num users: 46064\n",
      "\t+ weasel:\n",
      "\t\tUsers overlap: 19972 Frac: 0.43\n",
      "\t\tEdits overlap: 335196215 Frac: 0.969\n",
      "\t+ peacock:\n",
      "\t\tUsers overlap: 24976 Frac: 0.54\n",
      "\t\tEdits overlap: 338854548 Frac: 0.979\n",
      "\t+ autobiography:\n",
      "\t\tUsers overlap: 12493 Frac: 0.27\n",
      "\t\tEdits overlap: 311623831 Frac: 0.901\n",
      "\t+ advert:\n",
      "\t\tUsers overlap: 22743 Frac: 0.49\n",
      "\t\tEdits overlap: 336502411 Frac: 0.972\n",
      "\n"
     ]
    }
   ],
   "source": [
    "for i in range(5):\n",
    "    print(TEMPLATES[i].upper())\n",
    "    df_ref = tag_users[TEMPLATES[i]]\n",
    "    ref_users = set(df_ref.event_user_id.values)\n",
    "    print('Num users: {}'.format(len(ref_users)))\n",
    "    for j in range(5):\n",
    "        if i!=j:\n",
    "            comp_users = set(tag_users[TEMPLATES[j]].event_user_id.values)\n",
    "            users_overlap = ref_users.intersection(comp_users)\n",
    "            n_users_overlap = len(users_overlap)\n",
    "            print('\\t+ {}:'.format(TEMPLATES[j]))\n",
    "            print('\\t\\tUsers overlap: {} Frac: {}'.format(n_users_overlap,np.round(n_users_overlap/len(df_ref),2)))\n",
    "            \n",
    "            \n",
    "            n_edits_overlap = df_ref[df_ref.event_user_id.isin(users_overlap)]['count(event_user_id)'].sum()\n",
    "            print('\\t\\tEdits overlap: {} Frac: {}'.format(n_edits_overlap,np.round(n_edits_overlap/(df_ref['count(event_user_id)'].sum()),3)))\n",
    "            \n",
    "        else:\n",
    "            pass\n",
    "    print()\n"
   ]
  },
  {
   "cell_type": "code",
   "execution_count": null,
   "metadata": {},
   "outputs": [],
   "source": [
    "# Insight: Unique editors do not overlap to a great extent, but the edits of the overlapping editors are substantial\n",
    "# >> Makes sense to process them as one graph"
   ]
  },
  {
   "cell_type": "code",
   "execution_count": null,
   "metadata": {},
   "outputs": [],
   "source": []
  },
  {
   "cell_type": "markdown",
   "metadata": {},
   "source": [
    "# Export full histories for users (not bots)"
   ]
  },
  {
   "cell_type": "code",
   "execution_count": null,
   "metadata": {},
   "outputs": [],
   "source": [
    "# Note: this exports histories for all users separately per tag, which is not super useful \n",
    "# given the above information: there is a lot of overlap between them. \n",
    "# The next section exports them all together"
   ]
  },
  {
   "cell_type": "code",
   "execution_count": null,
   "metadata": {},
   "outputs": [],
   "source": [
    "## Read back revisions with template\n",
    "revisions_with_template = spark.read.parquet(outputHDFS+'/templates.parquet')"
   ]
  },
  {
   "cell_type": "code",
   "execution_count": null,
   "metadata": {},
   "outputs": [],
   "source": [
    "## Select subset of mediawiki history containing all page titles with revisions\n",
    "\n",
    "pages_templates_subset = revisions_with_template.select('page_title').distinct()\n",
    "pages_templates_subset.createOrReplaceTempView('pages_templates_subset')\n",
    "\n",
    "mediawiki_history_subset =  spark.sql('''\n",
    "        SELECT w.page_title,w.page_id,w.event_user_is_anonymous,w.event_user_id\n",
    "        FROM wmf.mediawiki_history w\n",
    "        WHERE w.snapshot =\"2020-09\" and w.wiki_db =\"enwiki\" AND  \n",
    "        w.event_entity = 'revision' AND w.page_title IN (\n",
    "                    SELECT page_title FROM pages_templates_subset)                   \n",
    "        ''')\n",
    "mediawiki_history_subset.cache()\n",
    "mediawiki_history_subset.createOrReplaceTempView('mediawiki_history_subset')"
   ]
  },
  {
   "cell_type": "code",
   "execution_count": 43,
   "metadata": {
    "scrolled": true
   },
   "outputs": [
    {
     "name": "stdout",
     "output_type": "stream",
     "text": [
      "weasel\n",
      "read table, done 0.09238576889038086\n",
      "found users, done -0.06015896797180176\n",
      "extracting user histories\n",
      "save table, done 1434.7125420570374\n",
      "number of users:  135483\n",
      "text: `user_history/weasel/_temporary': Is a directory\n",
      "21/03/08 21:32:35 INFO compress.CodecPool: Got brand-new decompressor [.snappy]\n",
      "----- 492.7768256664276\n",
      "peacock\n",
      "read table, done 0.08702683448791504\n",
      "found users, done -0.030692338943481445\n",
      "extracting user histories\n",
      "save table, done 1873.1532759666443\n",
      "number of users:  144522\n",
      "21/03/08 22:12:04 INFO compress.CodecPool: Got brand-new decompressor [.snappy]\n",
      "----- 475.9412546157837\n",
      "autobiography\n",
      "read table, done 0.09299492835998535\n",
      "found users, done -0.04932570457458496\n",
      "extracting user histories\n",
      "save table, done 1375.2048921585083\n",
      "number of users:  52117\n",
      "21/03/08 22:42:57 INFO compress.CodecPool: Got brand-new decompressor [.snappy]\n",
      "----- 466.0584509372711\n",
      "advert\n",
      "read table, done 0.08124065399169922\n",
      "found users, done -0.03620791435241699\n",
      "extracting user histories\n",
      "save table, done 1860.6256082057953\n",
      "number of users:  143381\n",
      "21/03/08 23:21:48 INFO compress.CodecPool: Got brand-new decompressor [.snappy]\n",
      "----- 641.9721369743347\n",
      "fanpov\n",
      "read table, done 0.08062553405761719\n",
      "found users, done -0.04829573631286621\n",
      "extracting user histories\n",
      "save table, done 1183.341676235199\n",
      "number of users:  46064\n",
      "21/03/08 23:52:15 INFO compress.CodecPool: Got brand-new decompressor [.snappy]\n",
      "----- 502.4590253829956\n"
     ]
    }
   ],
   "source": [
    "for template in TEMPLATES:\n",
    "    try:\n",
    "        outputHDFS = 'user_history'\n",
    "        t1 = time()\n",
    "        print(template)\n",
    "        df = revisions_with_template.where(revisions_with_template['col']==template) # \n",
    "        df.cache()\n",
    "        t2 = time()\n",
    "        print('read table, done',t2-t1)\n",
    "        t1 = time()\n",
    "        page_ids = df.select('page_title').distinct()\n",
    "        page_ids.createOrReplaceTempView('tmp_page_ids')\n",
    "        users = spark.sql('''\n",
    "        SELECT DISTINCT w.event_user_id\n",
    "        FROM mediawiki_history_subset w \n",
    "        WHERE w.page_title IN (SELECT page_title FROM tmp_page_ids)\n",
    "        AND w.event_user_is_anonymous = 0\n",
    "        ''') \n",
    "        users.createOrReplaceTempView('tmp_users')\n",
    "        t1 = time()\n",
    "        print('found users, done',t2-t1)\n",
    "        \n",
    "        \n",
    "        print('extracting user histories')\n",
    "        t1 = time()\n",
    "        user_histories =  spark.sql('''\n",
    "        SELECT w.event_user_text, w.event_timestamp, w.page_title,w.page_id,w.page_namespace,\n",
    "        w.revision_id, w.revision_is_identity_reverted, revision_is_identity_revert,\n",
    "        w.revision_minor_edit, w.revision_text_bytes, \n",
    "        w.revision_first_identity_reverting_revision_id,\n",
    "        w.event_user_id,w.event_user_registration_timestamp, \n",
    "        SIZE(w.event_user_groups) as num_groups,\n",
    "        SIZE(w.event_user_blocks_historical) as num_blocks_historical, \n",
    "        SIZE(w.event_user_blocks) as num_curr_blocks\n",
    "        FROM wmf.mediawiki_history w\n",
    "        \n",
    "        WHERE w.snapshot =\"2020-09\" and w.wiki_db =\"enwiki\" AND  \n",
    "        w.event_entity = 'revision' \n",
    "        AND w.event_user_id IN (SELECT event_user_id FROM tmp_users) \n",
    "        AND SIZE(w.event_user_is_bot_by) = 0\n",
    "        ORDER BY w.event_user_id\n",
    "        ''') \n",
    "        user_histories.cache()\n",
    "        user_histories.repartition(1).write.format('json').save(outputHDFS+'/'+template,mode='overwrite')\n",
    "        t2 = time()\n",
    "        print('save table, done',t2-t1)\n",
    "        user_ids = user_histories.select('event_user_id').distinct()\n",
    "        print('number of users: ', user_ids.count())\n",
    "        t1 = time()   \n",
    "        templateout = template.replace(' ','_')\n",
    "        !hadoop fs -text \"$outputHDFS/$template/*\" > $outputHDFS-$template-meta-info.json\n",
    "        t2 = time()\n",
    "        print('-----',t2-t1)\n",
    "    \n",
    "    except Exception as e:\n",
    "        print('error',e)"
   ]
  },
  {
   "cell_type": "code",
   "execution_count": null,
   "metadata": {},
   "outputs": [],
   "source": []
  },
  {
   "cell_type": "markdown",
   "metadata": {},
   "source": [
    "# Editor-editor features"
   ]
  },
  {
   "cell_type": "code",
   "execution_count": 47,
   "metadata": {},
   "outputs": [],
   "source": [
    "## Read back revisions with template\n",
    "revisions_with_template = spark.read.parquet(outputHDFS+'/templates.parquet')"
   ]
  },
  {
   "cell_type": "code",
   "execution_count": 48,
   "metadata": {},
   "outputs": [],
   "source": [
    "## Select subset of mediawiki history containing all page titles with revisions\n",
    "\n",
    "pages_templates_subset = revisions_with_template.select('page_title').distinct()\n",
    "pages_templates_subset.createOrReplaceTempView('pages_templates_subset')\n",
    "\n",
    "users =  spark.sql('''\n",
    "        SELECT DISTINCT w.event_user_id\n",
    "        FROM wmf.mediawiki_history w\n",
    "        WHERE w.snapshot =\"2020-09\" and w.wiki_db =\"enwiki\" AND  \n",
    "        w.event_entity = 'revision' AND w.page_title IN (\n",
    "        SELECT page_title FROM pages_templates_subset)                   \n",
    "        ''')\n",
    "users.cache()\n",
    "users.createOrReplaceTempView('tmp_users')"
   ]
  },
  {
   "cell_type": "code",
   "execution_count": 49,
   "metadata": {},
   "outputs": [
    {
     "name": "stdout",
     "output_type": "stream",
     "text": [
      "extracting user histories\n"
     ]
    }
   ],
   "source": [
    "print('extracting user histories')\n",
    "t1 = time()\n",
    "user_histories =  spark.sql('''\n",
    "SELECT w.event_user_text, w.event_timestamp, w.page_title,w.page_id,w.page_namespace,\n",
    "w.revision_id, w.revision_is_identity_reverted, revision_is_identity_revert,\n",
    "w.revision_minor_edit, w.revision_text_bytes, \n",
    "w.revision_first_identity_reverting_revision_id,\n",
    "w.event_user_id,w.event_user_registration_timestamp, \n",
    "SIZE(w.event_user_groups) as num_groups,\n",
    "SIZE(w.event_user_blocks_historical) as num_blocks_historical, \n",
    "SIZE(w.event_user_blocks) as num_curr_blocks\n",
    "FROM wmf.mediawiki_history w\n",
    "\n",
    "WHERE w.snapshot =\"2020-09\" and w.wiki_db =\"enwiki\" AND  \n",
    "w.event_entity = 'revision' \n",
    "AND w.event_user_id IN (SELECT event_user_id FROM tmp_users) \n",
    "AND SIZE(w.event_user_is_bot_by) = 0\n",
    "ORDER BY w.event_user_id\n",
    "''') \n",
    "#user_histories.cache()\n",
    "user_histories.write.parquet('editors/user_histories.parquet',mode='overwrite')"
   ]
  },
  {
   "cell_type": "code",
   "execution_count": null,
   "metadata": {},
   "outputs": [],
   "source": []
  },
  {
   "cell_type": "code",
   "execution_count": null,
   "metadata": {},
   "outputs": [],
   "source": [
    "# Read back"
   ]
  },
  {
   "cell_type": "code",
   "execution_count": 50,
   "metadata": {
    "scrolled": true
   },
   "outputs": [
    {
     "data": {
      "text/plain": [
       "515325018"
      ]
     },
     "execution_count": 50,
     "metadata": {},
     "output_type": "execute_result"
    }
   ],
   "source": [
    "user_histories = spark.read.parquet('editors/user_histories.parquet')\n",
    "user_histories.count()"
   ]
  },
  {
   "cell_type": "code",
   "execution_count": 27,
   "metadata": {},
   "outputs": [
    {
     "data": {
      "text/plain": [
       "DataFrame[event_user_id: bigint, event_user_id_r: bigint, common_pages: array<bigint>]"
      ]
     },
     "execution_count": 27,
     "metadata": {},
     "output_type": "execute_result"
    }
   ],
   "source": [
    "# editor past interactions (all namespaces)\n",
    "## nb: have to deal with only history pre tag.....\n",
    "user_pages = user_histories.select(user_histories.page_id,user_histories.event_user_id,\n",
    "                                   user_histories.revision_id,user_histories.page_namespace)\\\n",
    "                            .groupBy(\"page_id\",\"event_user_id\")\\\n",
    "                            .agg(count(\"revision_id\").alias(\"revisions_count\"),\n",
    "                                 first(\"page_namespace\").alias('page_namespace'))\n",
    "\n",
    "user_pages.cache()\n",
    "user_pages.write.parquet('user_history/user_pages.parquet',mode='overwrite')\n",
    "\n",
    "self_join_df = user_pages.toDF(*[c + '_r' for c in user_pages.columns])\n",
    "editor_interactions = user_pages.join(self_join_df,[user_pages.page_id == self_join_df.page_id_r,\n",
    "                       user_pages.event_user_id != self_join_df.event_user_id_r]).drop('page_id_r')\n",
    "\n",
    "all_interactions = editor_interactions.groupby('event_user_id','event_user_id_r').agg(collect_list(\"page_id\").alias('common_pages'))\n",
    "all_interactions = all_interactions.withColumn('num_common_pages',size(col('common_pages')))\n",
    "all_interactions.cache()"
   ]
  },
  {
   "cell_type": "code",
   "execution_count": 32,
   "metadata": {},
   "outputs": [
    {
     "data": {
      "text/plain": [
       "4170111470"
      ]
     },
     "execution_count": 32,
     "metadata": {},
     "output_type": "execute_result"
    }
   ],
   "source": [
    "all_interactions.count()"
   ]
  },
  {
   "cell_type": "code",
   "execution_count": 12,
   "metadata": {
    "scrolled": true
   },
   "outputs": [],
   "source": [
    "num_interactions = all_interactions.withColumn('num_interactions',size(col('common_pages'))) "
   ]
  },
  {
   "cell_type": "code",
   "execution_count": 13,
   "metadata": {},
   "outputs": [],
   "source": [
    "# editor past interactions (only articles)\n",
    "\n",
    "user_articles = user_pages.where(user_pages.page_namespace==0)\n",
    "self_join_df = user_articles.toDF(*[c + '_r' for c in user_articles.columns])\n",
    "user_articles = user_articles.join(self_join_df,[user_articles.page_id == self_join_df.page_id_r,\n",
    "                       user_articles.event_user_id != self_join_df.event_user_id_r]).drop('page_id_r')\n",
    "\n",
    "article_coedits = user_articles.groupby('event_user_id','event_user_id_r').agg(collect_list(\"page_id\").alias('common_pages'))"
   ]
  },
  {
   "cell_type": "code",
   "execution_count": 14,
   "metadata": {},
   "outputs": [
    {
     "name": "stdout",
     "output_type": "stream",
     "text": [
      "+-------------+---------------+--------------------+\n",
      "|event_user_id|event_user_id_r|        common_pages|\n",
      "+-------------+---------------+--------------------+\n",
      "|            1|             94|[6115, 13694, 231...|\n",
      "|            1|            185|[12250, 6429, 152...|\n",
      "|            1|            328|[18933600, 18884,...|\n",
      "|            1|           2597|[72634, 142690, 4...|\n",
      "|            1|           3278|[89314, 13694, 18...|\n",
      "|            1|           3808|[69238, 10258, 18...|\n",
      "|            1|           8155|[19984080, 469133...|\n",
      "|            1|           9218|[23745, 32917, 52...|\n",
      "|            1|          13933|[6097297, 6021, 1...|\n",
      "|            1|          14063|[822093, 39675, 6...|\n",
      "+-------------+---------------+--------------------+\n",
      "only showing top 10 rows\n",
      "\n"
     ]
    }
   ],
   "source": [
    "article_coedits.show(10)"
   ]
  },
  {
   "cell_type": "code",
   "execution_count": 15,
   "metadata": {},
   "outputs": [],
   "source": [
    "num_coedits = article_coedits.withColumn('num_coedits',size(col('common_pages'))) "
   ]
  },
  {
   "cell_type": "code",
   "execution_count": null,
   "metadata": {},
   "outputs": [],
   "source": []
  },
  {
   "cell_type": "code",
   "execution_count": null,
   "metadata": {},
   "outputs": [],
   "source": [
    "# editor-editor features (directed)"
   ]
  },
  {
   "cell_type": "code",
   "execution_count": null,
   "metadata": {},
   "outputs": [],
   "source": [
    "# ratio of co-edited articles to all edited articles\n",
    "\n",
    "coedit_ratio = all_interactions.groupby('event_user_id').agg(size('event_user_id')/sum('num_common_pages'))"
   ]
  },
  {
   "cell_type": "code",
   "execution_count": 19,
   "metadata": {},
   "outputs": [],
   "source": [
    "# look at a better way to do this so that we do not need to re-do the big join\n",
    "\n",
    "from pyspark.sql.functions import countDistinct, count\n",
    "\n",
    "article_concentration_ratio = user_histories.groupby('page_id')\\\n",
    "                    .agg(count(\"revision_id\")/countDistinct(\"event_user_id\")\\\n",
    "                    .alias('concentration_ratio'))"
   ]
  },
  {
   "cell_type": "code",
   "execution_count": null,
   "metadata": {},
   "outputs": [],
   "source": []
  },
  {
   "cell_type": "markdown",
   "metadata": {},
   "source": [
    "# Super users"
   ]
  },
  {
   "cell_type": "code",
   "execution_count": 54,
   "metadata": {
    "scrolled": true
   },
   "outputs": [],
   "source": [
    "user_counts = user_histories.groupby('event_user_id')\\\n",
    "            .agg(count('revision_id').alias('num_edits'))"
   ]
  },
  {
   "cell_type": "code",
   "execution_count": 56,
   "metadata": {},
   "outputs": [
    {
     "name": "stdout",
     "output_type": "stream",
     "text": [
      "+-------------+---------+\n",
      "|event_user_id|num_edits|\n",
      "+-------------+---------+\n",
      "|      1046101|       18|\n",
      "|      1048422|     9757|\n",
      "|      1056492|      109|\n",
      "|      1057624|      108|\n",
      "|      1069572|      259|\n",
      "|      1071743|       26|\n",
      "|      1085213|     8181|\n",
      "|      1093605|       43|\n",
      "|      1099373|      339|\n",
      "|      1104766|      640|\n",
      "+-------------+---------+\n",
      "only showing top 10 rows\n",
      "\n"
     ]
    }
   ],
   "source": [
    "user_counts.show(10)"
   ]
  },
  {
   "cell_type": "code",
   "execution_count": 58,
   "metadata": {},
   "outputs": [],
   "source": [
    "user_counts = user_counts.toPandas().sort_values(by='num_edits',ascending=False)"
   ]
  },
  {
   "cell_type": "code",
   "execution_count": 62,
   "metadata": {},
   "outputs": [
    {
     "data": {
      "text/plain": [
       "515325018"
      ]
     },
     "execution_count": 62,
     "metadata": {},
     "output_type": "execute_result"
    }
   ],
   "source": [
    "user_counts.num_edits.sum()"
   ]
  },
  {
   "cell_type": "code",
   "execution_count": 63,
   "metadata": {
    "scrolled": true
   },
   "outputs": [
    {
     "data": {
      "text/html": [
       "<div>\n",
       "<style scoped>\n",
       "    .dataframe tbody tr th:only-of-type {\n",
       "        vertical-align: middle;\n",
       "    }\n",
       "\n",
       "    .dataframe tbody tr th {\n",
       "        vertical-align: top;\n",
       "    }\n",
       "\n",
       "    .dataframe thead th {\n",
       "        text-align: right;\n",
       "    }\n",
       "</style>\n",
       "<table border=\"1\" class=\"dataframe\">\n",
       "  <thead>\n",
       "    <tr style=\"text-align: right;\">\n",
       "      <th></th>\n",
       "      <th>event_user_id</th>\n",
       "      <th>num_edits</th>\n",
       "    </tr>\n",
       "  </thead>\n",
       "  <tbody>\n",
       "    <tr>\n",
       "      <th>149466</th>\n",
       "      <td>753665</td>\n",
       "      <td>3769334</td>\n",
       "    </tr>\n",
       "    <tr>\n",
       "      <th>79327</th>\n",
       "      <td>205121</td>\n",
       "      <td>2165569</td>\n",
       "    </tr>\n",
       "    <tr>\n",
       "      <th>247344</th>\n",
       "      <td>754619</td>\n",
       "      <td>2070336</td>\n",
       "    </tr>\n",
       "    <tr>\n",
       "      <th>232423</th>\n",
       "      <td>82835</td>\n",
       "      <td>1725958</td>\n",
       "    </tr>\n",
       "    <tr>\n",
       "      <th>89433</th>\n",
       "      <td>196446</td>\n",
       "      <td>1672421</td>\n",
       "    </tr>\n",
       "    <tr>\n",
       "      <th>187717</th>\n",
       "      <td>9784415</td>\n",
       "      <td>1342522</td>\n",
       "    </tr>\n",
       "    <tr>\n",
       "      <th>178952</th>\n",
       "      <td>7852030</td>\n",
       "      <td>1331224</td>\n",
       "    </tr>\n",
       "    <tr>\n",
       "      <th>315334</th>\n",
       "      <td>1951353</td>\n",
       "      <td>1256876</td>\n",
       "    </tr>\n",
       "    <tr>\n",
       "      <th>55664</th>\n",
       "      <td>1276024</td>\n",
       "      <td>1232088</td>\n",
       "    </tr>\n",
       "    <tr>\n",
       "      <th>380911</th>\n",
       "      <td>508734</td>\n",
       "      <td>1210633</td>\n",
       "    </tr>\n",
       "    <tr>\n",
       "      <th>393154</th>\n",
       "      <td>24902</td>\n",
       "      <td>1147013</td>\n",
       "    </tr>\n",
       "    <tr>\n",
       "      <th>264543</th>\n",
       "      <td>7098284</td>\n",
       "      <td>1077310</td>\n",
       "    </tr>\n",
       "    <tr>\n",
       "      <th>344155</th>\n",
       "      <td>2842084</td>\n",
       "      <td>1010843</td>\n",
       "    </tr>\n",
       "    <tr>\n",
       "      <th>124924</th>\n",
       "      <td>203786</td>\n",
       "      <td>966926</td>\n",
       "    </tr>\n",
       "    <tr>\n",
       "      <th>265331</th>\n",
       "      <td>203434</td>\n",
       "      <td>938528</td>\n",
       "    </tr>\n",
       "    <tr>\n",
       "      <th>384222</th>\n",
       "      <td>1862829</td>\n",
       "      <td>906476</td>\n",
       "    </tr>\n",
       "    <tr>\n",
       "      <th>54533</th>\n",
       "      <td>13791031</td>\n",
       "      <td>804579</td>\n",
       "    </tr>\n",
       "    <tr>\n",
       "      <th>17648</th>\n",
       "      <td>6454287</td>\n",
       "      <td>714130</td>\n",
       "    </tr>\n",
       "    <tr>\n",
       "      <th>169537</th>\n",
       "      <td>917223</td>\n",
       "      <td>684616</td>\n",
       "    </tr>\n",
       "    <tr>\n",
       "      <th>156032</th>\n",
       "      <td>3006008</td>\n",
       "      <td>675775</td>\n",
       "    </tr>\n",
       "    <tr>\n",
       "      <th>158772</th>\n",
       "      <td>14730724</td>\n",
       "      <td>664850</td>\n",
       "    </tr>\n",
       "    <tr>\n",
       "      <th>352158</th>\n",
       "      <td>3138265</td>\n",
       "      <td>648397</td>\n",
       "    </tr>\n",
       "    <tr>\n",
       "      <th>104341</th>\n",
       "      <td>1616157</td>\n",
       "      <td>635214</td>\n",
       "    </tr>\n",
       "    <tr>\n",
       "      <th>276729</th>\n",
       "      <td>11308236</td>\n",
       "      <td>627130</td>\n",
       "    </tr>\n",
       "    <tr>\n",
       "      <th>3041</th>\n",
       "      <td>159678</td>\n",
       "      <td>616844</td>\n",
       "    </tr>\n",
       "    <tr>\n",
       "      <th>255315</th>\n",
       "      <td>15708</td>\n",
       "      <td>570907</td>\n",
       "    </tr>\n",
       "    <tr>\n",
       "      <th>263322</th>\n",
       "      <td>525927</td>\n",
       "      <td>553843</td>\n",
       "    </tr>\n",
       "    <tr>\n",
       "      <th>121965</th>\n",
       "      <td>264323</td>\n",
       "      <td>548722</td>\n",
       "    </tr>\n",
       "    <tr>\n",
       "      <th>365114</th>\n",
       "      <td>23407</td>\n",
       "      <td>516761</td>\n",
       "    </tr>\n",
       "    <tr>\n",
       "      <th>118116</th>\n",
       "      <td>4906524</td>\n",
       "      <td>508093</td>\n",
       "    </tr>\n",
       "    <tr>\n",
       "      <th>...</th>\n",
       "      <td>...</td>\n",
       "      <td>...</td>\n",
       "    </tr>\n",
       "    <tr>\n",
       "      <th>180318</th>\n",
       "      <td>32464997</td>\n",
       "      <td>1</td>\n",
       "    </tr>\n",
       "    <tr>\n",
       "      <th>123295</th>\n",
       "      <td>18160914</td>\n",
       "      <td>1</td>\n",
       "    </tr>\n",
       "    <tr>\n",
       "      <th>123296</th>\n",
       "      <td>30523006</td>\n",
       "      <td>1</td>\n",
       "    </tr>\n",
       "    <tr>\n",
       "      <th>180319</th>\n",
       "      <td>32528165</td>\n",
       "      <td>1</td>\n",
       "    </tr>\n",
       "    <tr>\n",
       "      <th>153629</th>\n",
       "      <td>18606089</td>\n",
       "      <td>1</td>\n",
       "    </tr>\n",
       "    <tr>\n",
       "      <th>6869</th>\n",
       "      <td>6825014</td>\n",
       "      <td>1</td>\n",
       "    </tr>\n",
       "    <tr>\n",
       "      <th>363072</th>\n",
       "      <td>8188312</td>\n",
       "      <td>1</td>\n",
       "    </tr>\n",
       "    <tr>\n",
       "      <th>3308</th>\n",
       "      <td>37898837</td>\n",
       "      <td>1</td>\n",
       "    </tr>\n",
       "    <tr>\n",
       "      <th>207315</th>\n",
       "      <td>27295770</td>\n",
       "      <td>1</td>\n",
       "    </tr>\n",
       "    <tr>\n",
       "      <th>363028</th>\n",
       "      <td>276301</td>\n",
       "      <td>1</td>\n",
       "    </tr>\n",
       "    <tr>\n",
       "      <th>289923</th>\n",
       "      <td>35042412</td>\n",
       "      <td>1</td>\n",
       "    </tr>\n",
       "    <tr>\n",
       "      <th>74547</th>\n",
       "      <td>5436817</td>\n",
       "      <td>1</td>\n",
       "    </tr>\n",
       "    <tr>\n",
       "      <th>180280</th>\n",
       "      <td>17793105</td>\n",
       "      <td>1</td>\n",
       "    </tr>\n",
       "    <tr>\n",
       "      <th>17798</th>\n",
       "      <td>8468869</td>\n",
       "      <td>1</td>\n",
       "    </tr>\n",
       "    <tr>\n",
       "      <th>74543</th>\n",
       "      <td>13997266</td>\n",
       "      <td>1</td>\n",
       "    </tr>\n",
       "    <tr>\n",
       "      <th>289924</th>\n",
       "      <td>17825734</td>\n",
       "      <td>1</td>\n",
       "    </tr>\n",
       "    <tr>\n",
       "      <th>180284</th>\n",
       "      <td>31516581</td>\n",
       "      <td>1</td>\n",
       "    </tr>\n",
       "    <tr>\n",
       "      <th>210343</th>\n",
       "      <td>6375767</td>\n",
       "      <td>1</td>\n",
       "    </tr>\n",
       "    <tr>\n",
       "      <th>289928</th>\n",
       "      <td>17898261</td>\n",
       "      <td>1</td>\n",
       "    </tr>\n",
       "    <tr>\n",
       "      <th>239916</th>\n",
       "      <td>35107177</td>\n",
       "      <td>1</td>\n",
       "    </tr>\n",
       "    <tr>\n",
       "      <th>123247</th>\n",
       "      <td>8274000</td>\n",
       "      <td>1</td>\n",
       "    </tr>\n",
       "    <tr>\n",
       "      <th>74529</th>\n",
       "      <td>13820324</td>\n",
       "      <td>1</td>\n",
       "    </tr>\n",
       "    <tr>\n",
       "      <th>219089</th>\n",
       "      <td>22647841</td>\n",
       "      <td>1</td>\n",
       "    </tr>\n",
       "    <tr>\n",
       "      <th>123249</th>\n",
       "      <td>8309223</td>\n",
       "      <td>1</td>\n",
       "    </tr>\n",
       "    <tr>\n",
       "      <th>13542</th>\n",
       "      <td>28098762</td>\n",
       "      <td>1</td>\n",
       "    </tr>\n",
       "    <tr>\n",
       "      <th>3310</th>\n",
       "      <td>38021551</td>\n",
       "      <td>1</td>\n",
       "    </tr>\n",
       "    <tr>\n",
       "      <th>74510</th>\n",
       "      <td>188783</td>\n",
       "      <td>1</td>\n",
       "    </tr>\n",
       "    <tr>\n",
       "      <th>123262</th>\n",
       "      <td>3717645</td>\n",
       "      <td>1</td>\n",
       "    </tr>\n",
       "    <tr>\n",
       "      <th>363068</th>\n",
       "      <td>5137211</td>\n",
       "      <td>1</td>\n",
       "    </tr>\n",
       "    <tr>\n",
       "      <th>204546</th>\n",
       "      <td>8701824</td>\n",
       "      <td>1</td>\n",
       "    </tr>\n",
       "  </tbody>\n",
       "</table>\n",
       "<p>404930 rows × 2 columns</p>\n",
       "</div>"
      ],
      "text/plain": [
       "        event_user_id  num_edits\n",
       "149466         753665    3769334\n",
       "79327          205121    2165569\n",
       "247344         754619    2070336\n",
       "232423          82835    1725958\n",
       "89433          196446    1672421\n",
       "187717        9784415    1342522\n",
       "178952        7852030    1331224\n",
       "315334        1951353    1256876\n",
       "55664         1276024    1232088\n",
       "380911         508734    1210633\n",
       "393154          24902    1147013\n",
       "264543        7098284    1077310\n",
       "344155        2842084    1010843\n",
       "124924         203786     966926\n",
       "265331         203434     938528\n",
       "384222        1862829     906476\n",
       "54533        13791031     804579\n",
       "17648         6454287     714130\n",
       "169537         917223     684616\n",
       "156032        3006008     675775\n",
       "158772       14730724     664850\n",
       "352158        3138265     648397\n",
       "104341        1616157     635214\n",
       "276729       11308236     627130\n",
       "3041           159678     616844\n",
       "255315          15708     570907\n",
       "263322         525927     553843\n",
       "121965         264323     548722\n",
       "365114          23407     516761\n",
       "118116        4906524     508093\n",
       "...               ...        ...\n",
       "180318       32464997          1\n",
       "123295       18160914          1\n",
       "123296       30523006          1\n",
       "180319       32528165          1\n",
       "153629       18606089          1\n",
       "6869          6825014          1\n",
       "363072        8188312          1\n",
       "3308         37898837          1\n",
       "207315       27295770          1\n",
       "363028         276301          1\n",
       "289923       35042412          1\n",
       "74547         5436817          1\n",
       "180280       17793105          1\n",
       "17798         8468869          1\n",
       "74543        13997266          1\n",
       "289924       17825734          1\n",
       "180284       31516581          1\n",
       "210343        6375767          1\n",
       "289928       17898261          1\n",
       "239916       35107177          1\n",
       "123247        8274000          1\n",
       "74529        13820324          1\n",
       "219089       22647841          1\n",
       "123249        8309223          1\n",
       "13542        28098762          1\n",
       "3310         38021551          1\n",
       "74510          188783          1\n",
       "123262        3717645          1\n",
       "363068        5137211          1\n",
       "204546        8701824          1\n",
       "\n",
       "[404930 rows x 2 columns]"
      ]
     },
     "execution_count": 63,
     "metadata": {},
     "output_type": "execute_result"
    }
   ],
   "source": [
    "user_counts"
   ]
  },
  {
   "cell_type": "code",
   "execution_count": null,
   "metadata": {},
   "outputs": [],
   "source": []
  },
  {
   "cell_type": "markdown",
   "metadata": {},
   "source": [
    "# Using shorter histories"
   ]
  },
  {
   "cell_type": "code",
   "execution_count": 79,
   "metadata": {},
   "outputs": [],
   "source": [
    "import dateutil \n",
    "from datetime import datetime\n",
    "from dateutil.relativedelta import relativedelta\n",
    "from pyspark.sql.functions import to_timestamp\n",
    "from pyspark.sql.functions import min, max"
   ]
  },
  {
   "cell_type": "code",
   "execution_count": 65,
   "metadata": {},
   "outputs": [],
   "source": [
    "template = 'fanpov'\n",
    "\n",
    "tags_added = pd.read_csv('/srv/home/christinedk/wp_internship/data/tag_events/{}_tag_added.csv'.format(template))"
   ]
  },
  {
   "cell_type": "code",
   "execution_count": 81,
   "metadata": {},
   "outputs": [],
   "source": [
    "tag_date = dateutil.parser.parse(tags_added.event_timestamp.min())\n",
    "start_date = tag_date - relativedelta(years=1)"
   ]
  },
  {
   "cell_type": "code",
   "execution_count": 85,
   "metadata": {},
   "outputs": [],
   "source": [
    "user_histories = user_histories.withColumn('event_timestamp',\n",
    "                                           to_timestamp(col('event_timestamp')))"
   ]
  },
  {
   "cell_type": "code",
   "execution_count": 104,
   "metadata": {},
   "outputs": [
    {
     "data": {
      "text/plain": [
       "13502993"
      ]
     },
     "execution_count": 104,
     "metadata": {},
     "output_type": "execute_result"
    }
   ],
   "source": [
    "user_histories_1year = user_histories.filter(col(\"event_timestamp\").between(start_date,tag_date))\n",
    "user_histories_1year.count()"
   ]
  },
  {
   "cell_type": "code",
   "execution_count": 106,
   "metadata": {},
   "outputs": [
    {
     "data": {
      "text/plain": [
       "DataFrame[event_user_id: bigint, event_user_id_r: bigint, common_pages: array<bigint>, num_common_pages: int]"
      ]
     },
     "execution_count": 106,
     "metadata": {},
     "output_type": "execute_result"
    }
   ],
   "source": [
    "# editor past interactions (all namespaces)\n",
    "## nb: have to deal with only history pre tag.....\n",
    "user_pages = user_histories_1year.select(user_histories_1year.page_id,user_histories_1year.event_user_id,\n",
    "                                   user_histories_1year.revision_id,user_histories_1year.page_namespace)\\\n",
    "                            .groupBy(\"page_id\",\"event_user_id\")\\\n",
    "                            .agg(count(\"revision_id\").alias(\"revisions_count\"),\n",
    "                                 first(\"page_namespace\").alias('page_namespace'))\n",
    "\n",
    "user_pages.cache()\n",
    "\n",
    "self_join_df = user_pages.toDF(*[c + '_r' for c in user_pages.columns])\n",
    "editor_interactions = user_pages.join(self_join_df,[user_pages.page_id == self_join_df.page_id_r,\n",
    "                       user_pages.event_user_id != self_join_df.event_user_id_r]).drop('page_id_r')\n",
    "\n",
    "all_interactions = editor_interactions.groupby('event_user_id','event_user_id_r').agg(collect_list(\"page_id\").alias('common_pages'))\n",
    "all_interactions = all_interactions.withColumn('num_common_pages',size(col('common_pages')))\n",
    "all_interactions.cache()"
   ]
  },
  {
   "cell_type": "code",
   "execution_count": 107,
   "metadata": {},
   "outputs": [
    {
     "data": {
      "text/plain": [
       "41794294"
      ]
     },
     "execution_count": 107,
     "metadata": {},
     "output_type": "execute_result"
    }
   ],
   "source": [
    "all_interactions.count()"
   ]
  },
  {
   "cell_type": "code",
   "execution_count": null,
   "metadata": {},
   "outputs": [],
   "source": []
  }
 ],
 "metadata": {
  "kernelspec": {
   "display_name": "PySpark - YARN (large)",
   "language": "python",
   "name": "spark_yarn_pyspark_large"
  },
  "language_info": {
   "codemirror_mode": {
    "name": "ipython",
    "version": 3
   },
   "file_extension": ".py",
   "mimetype": "text/x-python",
   "name": "python",
   "nbconvert_exporter": "python",
   "pygments_lexer": "ipython3",
   "version": "3.7.3"
  }
 },
 "nbformat": 4,
 "nbformat_minor": 4
}
