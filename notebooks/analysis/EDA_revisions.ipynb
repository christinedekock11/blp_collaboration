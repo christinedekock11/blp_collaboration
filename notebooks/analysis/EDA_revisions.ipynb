{
 "cells": [
  {
   "cell_type": "code",
   "execution_count": 1,
   "metadata": {},
   "outputs": [],
   "source": [
    "import pandas as pd\n",
    "from dateutil import parser\n",
    "import datetime"
   ]
  },
  {
   "cell_type": "code",
   "execution_count": 128,
   "metadata": {
    "scrolled": true
   },
   "outputs": [
    {
     "name": "stderr",
     "output_type": "stream",
     "text": [
      "/Users/christinedekock/opt/anaconda3/envs/ml_env/lib/python3.7/site-packages/IPython/core/interactiveshell.py:3058: DtypeWarning: Columns (4,5,9) have mixed types. Specify dtype option on import or set low_memory=False.\n",
      "  interactivity=interactivity, compiler=compiler, result=result)\n"
     ]
    }
   ],
   "source": [
    "fanpov = pd.read_csv('data/collaborationPatterns-autobiography-meta-info.csv', sep='\\t',lineterminator='\\n',\n",
    "                     index_col=None, header=0)"
   ]
  },
  {
   "cell_type": "code",
   "execution_count": 139,
   "metadata": {},
   "outputs": [],
   "source": [
    "blp = pd.read_csv('data/blp_articles.csv')"
   ]
  },
  {
   "cell_type": "code",
   "execution_count": 144,
   "metadata": {},
   "outputs": [
    {
     "data": {
      "text/plain": [
       "array([ 6368510,  6225163,  8634662, ..., 48923146, 44542564, 65365484])"
      ]
     },
     "execution_count": 144,
     "metadata": {},
     "output_type": "execute_result"
    }
   ],
   "source": [
    "blp.cl_from.values"
   ]
  },
  {
   "cell_type": "code",
   "execution_count": 153,
   "metadata": {},
   "outputs": [
    {
     "data": {
      "text/plain": [
       "0         18192043.0\n",
       "1         18192043.0\n",
       "2         18192043.0\n",
       "3         18192043.0\n",
       "4         18192043.0\n",
       "             ...    \n",
       "756244    31137615.0\n",
       "756245    31137615.0\n",
       "756246    31137615.0\n",
       "756247    31137615.0\n",
       "756248    31137615.0\n",
       "Name: page_id, Length: 756249, dtype: float64"
      ]
     },
     "execution_count": 153,
     "metadata": {},
     "output_type": "execute_result"
    }
   ],
   "source": [
    "fanpov.page_id"
   ]
  },
  {
   "cell_type": "code",
   "execution_count": 138,
   "metadata": {
    "scrolled": true
   },
   "outputs": [
    {
     "data": {
      "text/plain": [
       "Index(['event_timestamp', 'page_title', 'page_id', 'revision_id',\n",
       "       'revision_is_identity_reverted', 'revision_minor_edit',\n",
       "       'revision_text_bytes', 'revision_first_identity_reverting_revision_id',\n",
       "       'revision_seconds_to_identity_revert', 'event_user_is_anonymous',\n",
       "       'has_template', 'event_comment'],\n",
       "      dtype='object')"
      ]
     },
     "execution_count": 138,
     "metadata": {},
     "output_type": "execute_result"
    }
   ],
   "source": [
    "fanpov.columns"
   ]
  },
  {
   "cell_type": "code",
   "execution_count": 129,
   "metadata": {},
   "outputs": [],
   "source": [
    "groups = fanpov.groupby('page_title')"
   ]
  },
  {
   "cell_type": "code",
   "execution_count": 130,
   "metadata": {
    "scrolled": false
   },
   "outputs": [
    {
     "data": {
      "text/plain": [
       "count     4239.000000\n",
       "mean       178.397971\n",
       "std        435.898558\n",
       "min          3.000000\n",
       "25%         48.000000\n",
       "50%         85.000000\n",
       "75%        165.000000\n",
       "max      10712.000000\n",
       "Name: event_timestamp, dtype: float64"
      ]
     },
     "execution_count": 130,
     "metadata": {},
     "output_type": "execute_result"
    }
   ],
   "source": [
    "groups['event_timestamp'].count().describe()"
   ]
  },
  {
   "cell_type": "code",
   "execution_count": 131,
   "metadata": {},
   "outputs": [],
   "source": [
    "def get_edits_pre_tag(data):\n",
    "    ix = data['has_template'].idxmax()\n",
    "    if ix > data.index.min():\n",
    "        ix = ix - 1\n",
    "    \n",
    "    return data[:ix]"
   ]
  },
  {
   "cell_type": "code",
   "execution_count": 132,
   "metadata": {},
   "outputs": [],
   "source": [
    "pre_edit = fanpov.groupby('page_title').apply(get_edits_pre_tag)\n",
    "pre_edit.reset_index(drop=True, inplace=True)\n",
    "pre_edit = pre_edit.sort_values(by=['page_id','revision_id'], ascending=True)\n",
    "pre_edit['event_timestamp'] = pd.to_datetime(pre_edit['event_timestamp'])"
   ]
  },
  {
   "cell_type": "code",
   "execution_count": 136,
   "metadata": {},
   "outputs": [
    {
     "data": {
      "text/plain": [
       "4239"
      ]
     },
     "execution_count": 136,
     "metadata": {},
     "output_type": "execute_result"
    }
   ],
   "source": [
    "pre_edit.page_title.nunique()"
   ]
  },
  {
   "cell_type": "code",
   "execution_count": 133,
   "metadata": {},
   "outputs": [],
   "source": [
    "# group by page\n",
    "TIMEFRAME_DAYS = 7\n",
    "\n",
    "def article_age_years(page_revisions):\n",
    "    diff = page_revisions.event_timestamp.max() - page_revisions.event_timestamp.min()\n",
    "    diff = diff // datetime.timedelta(days=365.2425)\n",
    "    return diff\n",
    "\n",
    "def curr_size(page_revisions):\n",
    "    return page_revisions.iloc[-1].revision_text_bytes\n",
    "\n",
    "def frac_minor_edits(page_revisions):\n",
    "    return page_revisions.revision_minor_edit.mean()\n",
    "\n",
    "def last_edit_size(page_revisions):\n",
    "    edits = page_revisions[-2:].revision_text_bytes.values\n",
    "    return edits[0]/edits[1]\n",
    "\n",
    "def num_revisions(page_revisions):\n",
    "    return len(page_revisions)\n",
    "               \n",
    "def frac_recent_revisions(page_revisions, days=TIMEFRAME_DAYS):\n",
    "    start_time = page_revisions.event_timestamp.max() - datetime.timedelta(days=days)\n",
    "    recent = page_revisions.query('event_timestamp > @start_time')    \n",
    "    return len(recent) / len(page_revisions)"
   ]
  },
  {
   "cell_type": "code",
   "execution_count": 134,
   "metadata": {},
   "outputs": [],
   "source": [
    "pages = pre_edit.groupby('page_title')\n",
    "pre_edit['time_to_respond'] = pages['event_timestamp'].diff().dt.days.abs().fillna(0)\n",
    "pre_edit['time_responded_to'] = pages['event_timestamp'].diff(-1).dt.days.abs().fillna(0)\n",
    "pre_edit['edit_size'] = pages['revision_text_bytes'].diff().fillna(pre_edit.revision_text_bytes)\n",
    "pre_edit['next_edit_size'] = pages['revision_text_bytes'].diff()[1:].tolist() + [0]\n",
    "pre_edit['revision_is_identity_revert'] = pre_edit.revision_id.isin(pre_edit.revision_first_identity_reverting_revision_id)"
   ]
  },
  {
   "cell_type": "code",
   "execution_count": 135,
   "metadata": {},
   "outputs": [],
   "source": [
    "# group by page and user\n",
    "\n",
    "def num_revisions(user_revisions):\n",
    "    return len(user_revisions)\n",
    "\n",
    "def frac_edits_reverted(user_revisions):\n",
    "    return user_revisions.revision_is_identity_reverted.mean()\n",
    "\n",
    "def frac_reverted_others(user_revisions):\n",
    "    return user_revisions.revision_is_identity_revert.mean()\n",
    "\n",
    "def mean_revision_size(user_revisions):\n",
    "    return user_revisions.edit_size.mean()\n",
    "\n",
    "def size_of_edits_after(user_revisions):\n",
    "    return user_revisions.next_edit_size.mean()\n",
    "    \n",
    "def time_to_respond(user_revisions):\n",
    "    return user_revisions.time_to_respond.mean()\n",
    "    \n",
    "def time_reponded_to(user_revisions):\n",
    "    return user_revisions.time_responded_to.mean()\n",
    "\n",
    "## these are all just column means; easier to just do them at once\n",
    "\n",
    "def user_revision_feat(user_revisions):\n",
    "    return user_revisions[['revision_is_identity_reverted','revision_is_identity_revert','edit_size',\n",
    "                          'next_edit_size','time_to_respond','time_responded_to']].mean()"
   ]
  },
  {
   "cell_type": "code",
   "execution_count": null,
   "metadata": {},
   "outputs": [],
   "source": []
  }
 ],
 "metadata": {
  "kernelspec": {
   "display_name": "Python 3",
   "language": "python",
   "name": "python3"
  },
  "language_info": {
   "codemirror_mode": {
    "name": "ipython",
    "version": 3
   },
   "file_extension": ".py",
   "mimetype": "text/x-python",
   "name": "python",
   "nbconvert_exporter": "python",
   "pygments_lexer": "ipython3",
   "version": "3.7.5"
  }
 },
 "nbformat": 4,
 "nbformat_minor": 2
}
